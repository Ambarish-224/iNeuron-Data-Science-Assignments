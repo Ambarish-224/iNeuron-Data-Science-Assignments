{
 "cells": [
  {
   "cell_type": "markdown",
   "id": "dea3fc19",
   "metadata": {},
   "source": [
    "# DL Theory Assignment 1 Solution :-\n",
    "SUBMITTED BY: Ambarish Singh"
   ]
  },
  {
   "cell_type": "markdown",
   "id": "fa317973",
   "metadata": {},
   "source": [
    "### 1. What is the function of a summation junction of a neuron? What is threshold activation function?"
   ]
  },
  {
   "cell_type": "markdown",
   "id": "6389f6da",
   "metadata": {},
   "source": [
    "##### Ans: \n",
    "A summation junction of a neuron is the point where the electrical signals from other neurons combine and are processed by the neuron. Threshold activation function is the point at which the combined electrical signals reach an intensity where the neuron will fire an action potential."
   ]
  },
  {
   "cell_type": "markdown",
   "id": "fe0bc77e",
   "metadata": {},
   "source": [
    "### 2. What is a step function? What is the difference of step function with threshold function?"
   ]
  },
  {
   "cell_type": "markdown",
   "id": "c5ed11a7",
   "metadata": {},
   "source": [
    "##### Ans: \n",
    "A step function is a type of mathematical function where a certain output is produced when the input value reaches a certain threshold. The difference between a step function and a threshold function is that a step function has a clear cut-off point, while a threshold function has a gradual increase or decrease in output."
   ]
  },
  {
   "cell_type": "markdown",
   "id": "1b22adbb",
   "metadata": {},
   "source": [
    "### 3. Explain the McCulloch–Pitts model of neuron."
   ]
  },
  {
   "cell_type": "markdown",
   "id": "c1e19fdb",
   "metadata": {},
   "source": [
    "##### Ans: \n",
    "The McCulloch–Pitts (MCP) model of neuron is a mathematical model of a biological neuron developed by Walter Pitts and Warren McCulloch in 1943. It is a binary linear threshold model, where a neuron's output is either 0 or 1 depending on whether the total input to the neuron is above or below a certain threshold. It consists of a linear summation of weighted input signals and an activation function. The model was one of the earliest attempts to describe how a neuron works, and is still used as a basic model for understanding the behavior of neurons in a network."
   ]
  },
  {
   "cell_type": "markdown",
   "id": "1c6d9748",
   "metadata": {},
   "source": [
    "### 4. Explain the ADALINE network model."
   ]
  },
  {
   "cell_type": "markdown",
   "id": "7c93525c",
   "metadata": {},
   "source": [
    "##### Ans: \n",
    "The ADALINE network model (Adaptive Linear Element) is an artificial neural network model which was developed by Bernard Widrow and Ted Hoff in 1960. It is a single layer perceptron model which is capable of learning linear functions and is able to classify non-linearly separable patterns. It is composed of a single layer of neurons, each with a single output, and weights are adjusted based on a learning algorithm. The output of the network is a weighted sum of the inputs, with the weights determined by a learning algorithm. The weights are adjusted such that the output of the network is as close as possible to the desired output. The ADALINE model is used in a variety of applications, including pattern recognition, image processing, and robotics."
   ]
  },
  {
   "cell_type": "markdown",
   "id": "669af530",
   "metadata": {},
   "source": [
    "### 5. What is the constraint of a simple perceptron? Why it may fail with a real-world data set?"
   ]
  },
  {
   "cell_type": "markdown",
   "id": "d7b7e444",
   "metadata": {},
   "source": [
    "##### Ans:\n",
    "The constraint of a simple perceptron is that it can only learn linear separable functions. It may fail with a real-world data set because the data may not be linearly separable. For example, if the data points have a non-linear relationship, the simple perceptron will not be able to draw the decision boundary correctly."
   ]
  },
  {
   "cell_type": "markdown",
   "id": "3284aacc",
   "metadata": {},
   "source": [
    "### 6. What is linearly inseparable problem? What is the role of the hidden layer?"
   ]
  },
  {
   "cell_type": "markdown",
   "id": "63229f7a",
   "metadata": {},
   "source": [
    "##### Ans: \n",
    "A linearly inseparable problem is where two or more classes of data points cannot be separated by a single straight line, or a hyperplane. A hidden layer in a neural network is a layer between the input and output layers, which contains nodes that have a weighted sum of the inputs and apply an activation function. The hidden layer is important because it is able to capture non-linear relationships between the inputs and outputs, which allows the network to solve complex problems that are not linearly separable."
   ]
  },
  {
   "cell_type": "markdown",
   "id": "2d60c6b4",
   "metadata": {},
   "source": [
    "### 7. Explain XOR problem in case of a simple perceptron."
   ]
  },
  {
   "cell_type": "markdown",
   "id": "5af0002d",
   "metadata": {},
   "source": [
    "##### Ans: \n",
    "The XOR problem is a problem where a single perceptron cannot accurately classify the data into two distinct classes. XOR stands for Exclusive OR, meaning that if either A or B is true, then the result is true and if both A and B are true or false, then the result is false. The XOR problem occurs when we try to classify data that is not linearly separable. In other words, the data cannot be separated into two distinct classes with a straight line or hyperplane. A single perceptron cannot solve this problem because it is limited to linear classification."
   ]
  },
  {
   "cell_type": "markdown",
   "id": "6786f633",
   "metadata": {},
   "source": [
    "### 8. Design a multi-layer perceptron to implement A XOR B."
   ]
  },
  {
   "cell_type": "markdown",
   "id": "e2ec264d",
   "metadata": {},
   "source": [
    "##### Ans: \n",
    "A multi-layer perceptron (MLP) can be used to implement the XOR problem. An MLP consists of one or more hidden layers between the input and output layers. Each layer consists of neurons that take inputs and produce outputs. To classify the XOR problem, we can use an MLP with two inputs (A and B), two hidden layers (one with two neurons and one with one neuron), and one output. The first hidden layer will take in the two inputs (A and B) and produce two outputs. The second hidden layer will take the two outputs from the first hidden layer and produce one output. Finally, the output layer will take the output from the second hidden layer and produce the XOR output (true or false)."
   ]
  },
  {
   "cell_type": "markdown",
   "id": "288468f5",
   "metadata": {},
   "source": [
    "### 9. Explain the single-layer feed forward architecture of ANN."
   ]
  },
  {
   "cell_type": "markdown",
   "id": "5fd7804c",
   "metadata": {},
   "source": [
    "##### Ans: \n",
    "A single-layer feed forward architecture of ANN is one of the simplest forms of artificial neural networks. This type of network consists of a single layer of input neurons that feed directly into a single layer of output neurons. The neurons in the input layer receive the input data, which is then passed through a set of weights or parameters to the output layer. The output layer produces a single output value for each input. This architecture is used for simple tasks such as pattern recognition and classification."
   ]
  },
  {
   "cell_type": "markdown",
   "id": "182dc808",
   "metadata": {},
   "source": [
    "### 10. Explain the competitive network architecture of ANN."
   ]
  },
  {
   "cell_type": "markdown",
   "id": "1f487818",
   "metadata": {},
   "source": [
    "##### Ans: \n",
    "he competitive network architecture of ANN is a type of artificial neural network that uses competition between multiple neurons to determine the output. This type of network consists of a number of input neurons that feed into a single layer of neurons, which compete to produce the final output. Each neuron in the output layer has its own set of weights or parameters that it uses to compare the inputs from the previous layer. The neuron with the highest weighted sum of inputs is the one that produces the output. This type of architecture is used for tasks such as pattern recognition and classification."
   ]
  },
  {
   "cell_type": "markdown",
   "id": "8b83b3b5",
   "metadata": {},
   "source": [
    "### 11. Consider a multi-layer feed forward neural network. Enumerate and explain steps in the backpropagation algorithm used to train the network."
   ]
  },
  {
   "cell_type": "markdown",
   "id": "0d2a56e4",
   "metadata": {},
   "source": [
    "##### Ans:\n",
    "The backpropagation algorithm used to train a multilayer feed forward neural network involves the following steps:\n",
    "\n",
    "1. Initialize weights and biases: The weights and biases of the neurons in the network are initialized with small random numbers.\n",
    "\n",
    "\n",
    "2. Forward Pass: The input data is passed through the network. Each neuron in the network performs its calculations and passes the output to the next layer.\n",
    "\n",
    "\n",
    "3. Calculate Error: The error of the output is calculated using a cost or loss function.\n",
    "\n",
    "\n",
    "4. Backward Pass: The error is propagated back through the network. The weights and biases of each neuron are adjusted in order to minimize the error.\n",
    "\n",
    "\n",
    "5. Repeat: Steps 2-4 are repeated until the network converges and the error is minimized."
   ]
  },
  {
   "cell_type": "markdown",
   "id": "84eda1f1",
   "metadata": {},
   "source": [
    "### 12. What are the advantages and disadvantages of neural networks?"
   ]
  },
  {
   "cell_type": "markdown",
   "id": "a864c440",
   "metadata": {},
   "source": [
    "##### Ans:\n",
    "\n",
    "***Advantages:**\n",
    "\n",
    "* Neural networks are capable of learning complex relationships between inputs and outputs.\n",
    "* Neural networks are robust and can handle noisy and incomplete data.\n",
    "* Neural networks can be used for a variety of tasks such as pattern recognition, classification, and prediction.\n",
    "\n",
    "\n",
    "**Disadvantages:**\n",
    "\n",
    "* Neural networks require a large amount of data for training.\n",
    "* Neural networks can be difficult to interpret and understand.\n",
    "* Neural networks are prone to overfitting."
   ]
  },
  {
   "cell_type": "markdown",
   "id": "892d7066",
   "metadata": {},
   "source": [
    "### 13. Write short notes on any two of the following:\n",
    "\n",
    "1. Biological neuron\n",
    "\n",
    "2. ReLU function\n",
    "\n",
    "3. Single-layer feed forward ANN\n",
    "\n",
    "4. Gradient descent\n",
    "\n",
    "5. Recurrent networks"
   ]
  },
  {
   "cell_type": "markdown",
   "id": "856107ad",
   "metadata": {},
   "source": [
    "##### Ans:\n",
    "\n",
    "Biological neuron: A biological neuron is a specialized cell found in the nervous system that is capable of transmitting electrical signals. The neuron consists of a cell body, dendrites, and axon which are connected by synapses. The cell body contains the nucleus and other organelles, while the dendrites receive signals from other neurons and transmit them to the cell body. The axon then sends the signal away from the cell body to other neurons.\n",
    "\n",
    "ReLU function: ReLU (Rectified Linear Unit) is a type of activation function used in neural networks. It returns 0 for negative values and the same value for positive values, which helps in faster computation. ReLU offers non-linearity to the neural network and provides more flexibility to the model.\n",
    "\n",
    "Single-layer feed forward ANN: A single-layer feed forward ANN is a type of artificial neural network (ANN) that consists of one layer of neurons that is connected to the input layer and then to the output layer. Each neuron in the layer is connected to all the neurons in the previous and next layers. The weights of each connection are adjusted during the learning process.\n",
    "\n",
    "Gradient descent: Gradient descent is an optimization algorithm used to minimize a function by iteratively moving in the direction of steepest descent as defined by the negative of the gradient. It is commonly used for training neural networks and is one of the most popular optimization algorithms. It can also be used to find the local minimum of a function.\n",
    "\n",
    "Recurrent networks: Recurrent neural networks are a type of neural networks that are used for processing sequential data. These networks contain cycles that allow information to persist and be passed from one step to the next. They are used in tasks such as speech recognition, language modelling and machine translation."
   ]
  },
  {
   "cell_type": "markdown",
   "id": "5bb310f5",
   "metadata": {},
   "source": [
    "# Thank You"
   ]
  }
 ],
 "metadata": {
  "kernelspec": {
   "display_name": "Python 3 (ipykernel)",
   "language": "python",
   "name": "python3"
  },
  "language_info": {
   "codemirror_mode": {
    "name": "ipython",
    "version": 3
   },
   "file_extension": ".py",
   "mimetype": "text/x-python",
   "name": "python",
   "nbconvert_exporter": "python",
   "pygments_lexer": "ipython3",
   "version": "3.9.7"
  }
 },
 "nbformat": 4,
 "nbformat_minor": 5
}
