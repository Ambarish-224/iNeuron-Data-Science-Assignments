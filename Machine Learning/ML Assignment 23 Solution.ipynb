{
 "cells": [
  {
   "cell_type": "markdown",
   "id": "68dcf2b8",
   "metadata": {},
   "source": [
    "# ML Assignment 23 Solution :-\n",
    "SUBMITTED BY: Ambarish Singh"
   ]
  },
  {
   "cell_type": "markdown",
   "id": "b68a52b0",
   "metadata": {},
   "source": [
    "### 1. What are the key reasons for reducing the dimensionality of a dataset? What are the major disadvantages ?"
   ]
  },
  {
   "cell_type": "markdown",
   "id": "b2ad55a9",
   "metadata": {},
   "source": [
    "##### Ans:\n",
    "Disadvantages of Dimensionality Reduction:\n",
    "\n",
    "* It may lead to some amount of data loss.\n",
    "* PCA tends to find linear correlations between variables, which is sometimes undesirable.\n",
    "* PCA fails in cases where mean and covariance are not enough to define datasets."
   ]
  },
  {
   "cell_type": "markdown",
   "id": "ce2bae14",
   "metadata": {},
   "source": [
    "### 2. What is the dimensionality curse ?"
   ]
  },
  {
   "cell_type": "markdown",
   "id": "323f2b98",
   "metadata": {},
   "source": [
    "##### Ans: \n",
    "The curse of dimensionality basically means that the error increases with the increase in the number of features. It refers to the fact that algorithms are harder to design in high dimensions and often have a running time exponential in the dimensions."
   ]
  },
  {
   "cell_type": "markdown",
   "id": "cdcc9b29",
   "metadata": {},
   "source": [
    "### 3. Tell if its possible to reverse the process of reducing the dimensionality of a dataset? If so, how can you go about doing it? If not, what is the reason ?\n"
   ]
  },
  {
   "cell_type": "markdown",
   "id": "6380c70e",
   "metadata": {},
   "source": [
    "##### Ans: \n",
    "No, dimensionality reduction is not reversible in genera"
   ]
  },
  {
   "cell_type": "markdown",
   "id": "6bb55926",
   "metadata": {},
   "source": [
    "### 4. Can PCA be utilized to reduce the dimensionality of a nonlinear dataset with a lot of variables ?"
   ]
  },
  {
   "cell_type": "markdown",
   "id": "ef922759",
   "metadata": {},
   "source": [
    "##### Ans: \n",
    "Well it Depends on dataset. If it is comprised of points that are perfectly aligned, PCA can reduce the dataset down to 1 dimension and preserve 95% of the variance."
   ]
  },
  {
   "cell_type": "markdown",
   "id": "41b03002",
   "metadata": {},
   "source": [
    "### 5. Assume you're running PCA on a 1,000-dimensional dataset with a 95 percent explained variance ratio. What is the number of dimensions that the resulting dataset would have ?"
   ]
  },
  {
   "cell_type": "markdown",
   "id": "9bacfc1c",
   "metadata": {},
   "source": [
    "##### Ans: \n",
    "If I perform PCA on a 1,000-dimensional dataset, setting the explained variance ratio to 95%. In this case roughly 950 dimensions are required to preserve 95% of the variance. So the answer is, it depends on the dataset, and it could be any number between 1 and 950."
   ]
  },
  {
   "cell_type": "markdown",
   "id": "a2e46681",
   "metadata": {},
   "source": [
    "### 6. Will you use vanilla PCA, incremental PCA, randomized PCA, or kernel PCA in which situations ?"
   ]
  },
  {
   "cell_type": "markdown",
   "id": "045329d6",
   "metadata": {},
   "source": [
    "##### Ans: \n",
    "The following are the scenarios where the following are used:\n",
    "\n",
    "* Vanilla PCA: the dataset fit in memory\n",
    "* Incremental PCA: larget dataset that don't fit in memory, online taks\n",
    "* Randomized PCA: considerably reduce dimensionality and the dataset fit the memory.\n",
    "* kernel PCA: used for nonlinear PCA"
   ]
  },
  {
   "cell_type": "markdown",
   "id": "53d8d6ac",
   "metadata": {},
   "source": [
    "### 7. How do you assess a dimensionality reduction algorithm's success on your dataset ?"
   ]
  },
  {
   "cell_type": "markdown",
   "id": "32daa07f",
   "metadata": {},
   "source": [
    "##### Ans: \n",
    "By doing PCA, it is a good choice for dimensionality reduction and visualization for datasets with a large number of variables."
   ]
  },
  {
   "cell_type": "markdown",
   "id": "f45ed226",
   "metadata": {},
   "source": [
    "### 8. Is it logical to use two different dimensionality reduction algorithms in a chain ?"
   ]
  },
  {
   "cell_type": "markdown",
   "id": "7c7fec5e",
   "metadata": {},
   "source": [
    "##### Ans: \n",
    "Indeed, it often make any sense to chain two different dimensionality reduction algorithms. A common example is using PCA to quickly get rid of a large number of useless dimensions, then applying another much slower dimensionality reduction algorithm, such as LLE."
   ]
  },
  {
   "cell_type": "markdown",
   "id": "158167ea",
   "metadata": {},
   "source": [
    "# Thank You"
   ]
  }
 ],
 "metadata": {
  "kernelspec": {
   "display_name": "Python 3 (ipykernel)",
   "language": "python",
   "name": "python3"
  },
  "language_info": {
   "codemirror_mode": {
    "name": "ipython",
    "version": 3
   },
   "file_extension": ".py",
   "mimetype": "text/x-python",
   "name": "python",
   "nbconvert_exporter": "python",
   "pygments_lexer": "ipython3",
   "version": "3.9.7"
  }
 },
 "nbformat": 4,
 "nbformat_minor": 5
}
