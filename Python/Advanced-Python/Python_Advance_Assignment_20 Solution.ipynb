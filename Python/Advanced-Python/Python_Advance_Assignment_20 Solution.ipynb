{
 "cells": [
  {
   "cell_type": "markdown",
   "id": "58a164bd",
   "metadata": {},
   "source": [
    "# Python_Advance_Assignment_20 Solution :-\n",
    "SUBMITTED BY: AMBARISH SINGH"
   ]
  },
  {
   "cell_type": "markdown",
   "id": "40763df2",
   "metadata": {},
   "source": [
    "## 1. Compare and contrast the float and Decimal classes' benefits and drawbacks ?"
   ]
  },
  {
   "cell_type": "markdown",
   "id": "efbab99f",
   "metadata": {},
   "source": [
    "#### Ans: \n",
    "Both the float and decimal types store numerical values in Python.\n",
    "\n",
    "We use floats when convenience and speed matter. A float gives us an approximation of the number we declare.\n",
    "\n",
    "We use decimals when precision matters. Decimals can suffer from their own precision issues, but generally, decimals are more precise than floats. The performance difference between float and decimal, with Python 3, is not outlandish, and in my experience, the precision benefits of a decimal outweigh the performance benefits of a float."
   ]
  },
  {
   "cell_type": "markdown",
   "id": "e8c200b2",
   "metadata": {},
   "source": [
    "## 2. Decimal('1.200') and Decimal('1.2') are two objects to consider. In what sense are these the same object? Are these just two ways of representing the exact same value, or do they correspond to different internal states ?"
   ]
  },
  {
   "cell_type": "markdown",
   "id": "6d433b35",
   "metadata": {},
   "source": [
    "#### Ans: \n",
    "Both values are same but internal representation at storage Is different. Precsion differs, Decimal('1.200') gives internally 1.200 and Decimal('1.2') gives 1.2."
   ]
  },
  {
   "cell_type": "markdown",
   "id": "de7d6493",
   "metadata": {},
   "source": [
    "## 3. What happens if the equality of Decimal('1.200') and Decimal('1.2') is checked ?"
   ]
  },
  {
   "cell_type": "markdown",
   "id": "3ae3380a",
   "metadata": {},
   "source": [
    "#### Ans: \n",
    "Both values are checked to be equal since they only differ in precision."
   ]
  },
  {
   "cell_type": "markdown",
   "id": "c16f8869",
   "metadata": {},
   "source": [
    "## 4. Why is it preferable to start a Decimal object with a string rather than a floating-point value ?"
   ]
  },
  {
   "cell_type": "markdown",
   "id": "963ce41f",
   "metadata": {},
   "source": [
    "#### Ans: \n",
    "Floating-point value is converted to Decimal format. Decimal can store float value with absolute precision. But when float value is given as Decimal object,it first has to be converted from floating point value which might already have rounding error.\n",
    "\n",
    "Hence it is preferable to start a Decimal object with a string."
   ]
  },
  {
   "cell_type": "markdown",
   "id": "b2077f29",
   "metadata": {},
   "source": [
    "## 5. In an arithmetic phrase, how simple is it to combine Decimal objects with integers ?"
   ]
  },
  {
   "cell_type": "markdown",
   "id": "2e5c2af6",
   "metadata": {},
   "source": [
    "#### Ans: \n",
    "We can do it with use of Decimal()."
   ]
  },
  {
   "cell_type": "markdown",
   "id": "58e32755",
   "metadata": {},
   "source": [
    "## 6. Can Decimal objects and floating-point values be combined easily ?"
   ]
  },
  {
   "cell_type": "markdown",
   "id": "4e70757b",
   "metadata": {},
   "source": [
    "#### Ans: \n",
    "Arithmetic operfations like Adding,subtracting or multiplying a Decimal object by a floating-point value generates an error.\n",
    "\n",
    "To do these operations, the floating point has to be converted to a Decimal."
   ]
  },
  {
   "cell_type": "markdown",
   "id": "9d642e92",
   "metadata": {},
   "source": [
    "## 7. Using the Fraction class but not the Decimal class, give an example of a quantity that can be expressed with absolute precision ?"
   ]
  },
  {
   "cell_type": "markdown",
   "id": "42c85815",
   "metadata": {},
   "source": [
    "#### Ans: \n",
    "Value of 0.5 will be represented as ½."
   ]
  },
  {
   "cell_type": "markdown",
   "id": "c89a6d64",
   "metadata": {},
   "source": [
    "## 8.Consider the following two fraction objects: Fraction(1, 2) and Fraction(1, 2). (5, 10). Is the internal state of these two objects the same? Why do you think that is ?"
   ]
  },
  {
   "cell_type": "markdown",
   "id": "0925d6f5",
   "metadata": {},
   "source": [
    "#### Ans: \n",
    "Both will be reduced to 1/2"
   ]
  },
  {
   "cell_type": "markdown",
   "id": "7a1e4a59",
   "metadata": {},
   "source": [
    "## 9. How do the Fraction class and the integer type (int) relate to each other? Containment or inheritance ?"
   ]
  },
  {
   "cell_type": "markdown",
   "id": "d49f6ccc",
   "metadata": {},
   "source": [
    "#### Ans: \n",
    "Fraction class and integer type(int) are related in form of a container. It contains two ints, one in the numerator and the other in the denominator"
   ]
  },
  {
   "cell_type": "markdown",
   "id": "0bc3d2a1",
   "metadata": {},
   "source": [
    "# Thank You"
   ]
  }
 ],
 "metadata": {
  "kernelspec": {
   "display_name": "Python 3 (ipykernel)",
   "language": "python",
   "name": "python3"
  },
  "language_info": {
   "codemirror_mode": {
    "name": "ipython",
    "version": 3
   },
   "file_extension": ".py",
   "mimetype": "text/x-python",
   "name": "python",
   "nbconvert_exporter": "python",
   "pygments_lexer": "ipython3",
   "version": "3.9.7"
  }
 },
 "nbformat": 4,
 "nbformat_minor": 5
}
