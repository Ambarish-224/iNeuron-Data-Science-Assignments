{
 "cells": [
  {
   "cell_type": "markdown",
   "id": "9bf9aa01",
   "metadata": {},
   "source": [
    "# Python_Basics_Assignment_24 Solution :-\n",
    "SUBMITTED BY: AMBARISH SINGH"
   ]
  },
  {
   "cell_type": "markdown",
   "id": "795c4f31",
   "metadata": {},
   "source": [
    "## 1. What is the relationship between def statements and lambda expressions ?"
   ]
  },
  {
   "cell_type": "markdown",
   "id": "4f0d12dd",
   "metadata": {},
   "source": [
    "#### Ans: \n",
    "\n",
    "def statement is used to create a normal function whereas lambda expressions are used to create Anonymous functionswhich can be assigned to a variable and can be called using the variable later in function.\n",
    "\n",
    "\n",
    "Lambda's body is a single expression and not a block of statements like def statement. The lambda expression's body is similar to what we wouldd put in a def body's return statement. We simply type the result as an expression instead of explicitly returning it. Because it is limited to an expression, a lambda is less general than a def statement.\n",
    "\n",
    "\n",
    "Example of Lambda Function is shown below:"
   ]
  },
  {
   "cell_type": "code",
   "execution_count": 1,
   "id": "fe02eac6",
   "metadata": {},
   "outputs": [
    {
     "name": "stdout",
     "output_type": "stream",
     "text": [
      "13\n"
     ]
    }
   ],
   "source": [
    "x = lambda a, b, c : a + b + c\n",
    "print(x(5, 6, 2)) "
   ]
  },
  {
   "cell_type": "markdown",
   "id": "85540dfa",
   "metadata": {},
   "source": [
    "## 2. What is the benefit of lambda?"
   ]
  },
  {
   "cell_type": "markdown",
   "id": "2472fbf3",
   "metadata": {},
   "source": [
    "#### Ans: \n",
    "\n",
    "The following are some of the benefits of lambda expressions:\n",
    "\n",
    "1) It can be used to create Nameless/Anonymous functions inside some complex functions if we are planning to use it only once.\n",
    "\n",
    "2) Moderate to small functions can be created in a single line\n",
    "\n",
    "3) Fuctions created using lambda expressions can be assigned to a variable and can be used by simply calling the variable\n"
   ]
  },
  {
   "cell_type": "markdown",
   "id": "e6b8ebd6",
   "metadata": {},
   "source": [
    "## 3. Compare and contrast map, filter, and reduce."
   ]
  },
  {
   "cell_type": "markdown",
   "id": "4d8cdbb0",
   "metadata": {},
   "source": [
    "#### Ans: \n",
    "\n",
    "The differences between map, filter and reduce are:\n",
    "\n",
    "1) map(): The map() function is a type of higher-order. This function takes another function as a parameter\n",
    "\n",
    "along with a sequence of iterables and returns an output after applying the function to each iterable present in the sequence. 2. filter(): The filter() function is used to create an output list consisting of values for which the function returns true. 3. reduce(): The reduce() function, as the name describes, applies a given function to the iterables and returns a single value"
   ]
  },
  {
   "cell_type": "code",
   "execution_count": 2,
   "id": "e9969675",
   "metadata": {},
   "outputs": [
    {
     "name": "stdout",
     "output_type": "stream",
     "text": [
      "Map -> [2, 4, 6, 16]\n",
      "Filter -> [1, 3, 9]\n",
      "Reduce -> 22\n"
     ]
    }
   ],
   "source": [
    "from functools import reduce\n",
    "# map function\n",
    "print('Map ->',list(map(lambda x:x+x, [1,2,3,8])))\n",
    "# fitler function\n",
    "print('Filter ->',list(filter(lambda x:x%2 !=0, [1,2,3,9])))\n",
    "# reduce function\n",
    "print('Reduce ->',reduce(lambda x,y:x+y, [1,2,3,4,5,7]))"
   ]
  },
  {
   "cell_type": "markdown",
   "id": "e9ec76f3",
   "metadata": {},
   "source": [
    "## 4. What are function annotations, and how are they used?"
   ]
  },
  {
   "cell_type": "markdown",
   "id": "49c7905a",
   "metadata": {},
   "source": [
    "#### Ans: \n",
    "\n",
    "Function annotations provide a way of associating various parts of a function with arbitrary python expressions at compile time.\n",
    "\n",
    "Annotations of simple parameters def func(x: expression, y: expression = 20):\n",
    "\n",
    "Whereas the annotations for excess parameters are as − def func (**args: expression, **kwargs: expression):\n",
    "\n",
    "\n",
    "**Purpose of Function Annotations:**\n",
    "\n",
    "1) Python supports dynamic typing and hence no module is provided for type checking.\n",
    "\n",
    "2) String based annotations can be used by the libraries to provide better help messages at compile time regarding the functionalities of various methods, classes and modules.\n",
    "\n",
    "\n",
    "**Example of Annotations:**\n",
    "\n",
    "1) Annotations for simple parameters : def foo(a: expression, b: expression = 5):\n",
    "\n",
    "2) Annotations for excess parameters : def foo(args: expression, kwargs: expression):\n",
    "\n",
    "3) Annotations for nested parameters : def foo((a: expression, b: expression), (c: expression, d: expression)):"
   ]
  },
  {
   "cell_type": "markdown",
   "id": "c449d597",
   "metadata": {},
   "source": [
    "## 5. What are recursive functions, and how are they used?"
   ]
  },
  {
   "cell_type": "markdown",
   "id": "3be3fe01",
   "metadata": {},
   "source": [
    "#### Ans: \n",
    "\n",
    "A recursive function is a function that calls itself during its execution. The process may repeat several times, outputting the result and the end of each iteration. An example is mentioned below:"
   ]
  },
  {
   "cell_type": "code",
   "execution_count": 3,
   "id": "edb5d285",
   "metadata": {},
   "outputs": [
    {
     "name": "stdout",
     "output_type": "stream",
     "text": [
      "\n",
      "\n",
      "Recursion Example Results\n",
      "1\n",
      "3\n",
      "6\n",
      "10\n",
      "15\n",
      "21\n",
      "28\n",
      "36\n",
      "45\n"
     ]
    },
    {
     "data": {
      "text/plain": [
       "45"
      ]
     },
     "execution_count": 3,
     "metadata": {},
     "output_type": "execute_result"
    }
   ],
   "source": [
    "def tri_recursion(k):\n",
    "  if(k>0):\n",
    "    result = k+tri_recursion(k-1)\n",
    "    print(result)\n",
    "  else:\n",
    "    result = 0\n",
    "  return result\n",
    "\n",
    "print(\"\\n\\nRecursion Example Results\")\n",
    "tri_recursion(9)"
   ]
  },
  {
   "cell_type": "markdown",
   "id": "2a72d051",
   "metadata": {},
   "source": [
    "## 6. What are some general design guidelines for coding functions?"
   ]
  },
  {
   "cell_type": "markdown",
   "id": "491774fd",
   "metadata": {},
   "source": [
    "#### Ans: \n",
    "Some of the general design guidelines for coding functions are:\n",
    "\n",
    "1) Always use a docstring to explain the functionality of the function\n",
    "\n",
    "2) Avoid using or limit use of global variables\n",
    "\n",
    "3) Proper Indentation to increase the code readability\n",
    "\n",
    "4) Try to follow a proper naming convention for function names (pascalCase or camelCase) and stick with the same convention throughout the application.\n",
    "\n",
    "5) Avoid using digits while choosing a variable name\n",
    "\n",
    "6) Try to use a name for the function which conveys the purpose of the function\n",
    "\n",
    "7) Local variables should be named using camelCase format (ex: localVariable) whereas Global variables names should be using PascalCase (ex:GlobalVariable).\n",
    "\n",
    "8) Constant should be represented in allcaps (ex:CONSTANT)."
   ]
  },
  {
   "cell_type": "markdown",
   "id": "a9e31618",
   "metadata": {},
   "source": [
    "## 7. Name three or more ways that functions can communicate results to a caller."
   ]
  },
  {
   "cell_type": "markdown",
   "id": "2eeabc7f",
   "metadata": {},
   "source": [
    "#### Ans: \n",
    "Some of the ways in which a function can communicate with the calling function is:\n",
    "\n",
    "1) print\n",
    "\n",
    "2) return\n",
    "\n",
    "3) yield"
   ]
  },
  {
   "cell_type": "markdown",
   "id": "12c8ce4c",
   "metadata": {},
   "source": [
    "# Thank You"
   ]
  }
 ],
 "metadata": {
  "kernelspec": {
   "display_name": "Python 3 (ipykernel)",
   "language": "python",
   "name": "python3"
  },
  "language_info": {
   "codemirror_mode": {
    "name": "ipython",
    "version": 3
   },
   "file_extension": ".py",
   "mimetype": "text/x-python",
   "name": "python",
   "nbconvert_exporter": "python",
   "pygments_lexer": "ipython3",
   "version": "3.9.7"
  }
 },
 "nbformat": 4,
 "nbformat_minor": 5
}
