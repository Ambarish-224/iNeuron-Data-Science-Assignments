{
 "cells": [
  {
   "cell_type": "markdown",
   "id": "bf9eb459",
   "metadata": {},
   "source": [
    "# Assignment_1 Solutions"
   ]
  },
  {
   "cell_type": "markdown",
   "id": "13879a26",
   "metadata": {},
   "source": [
    "SUBMITTED BY: AMBARISH SINGH"
   ]
  },
  {
   "cell_type": "markdown",
   "id": "bbd618d7",
   "metadata": {},
   "source": [
    "# Q.1) In the below elements which of them are values or an expression ? eg:- values can be integer or string and expressions will be mathematical operators."
   ]
  },
  {
   "cell_type": "markdown",
   "id": "375c8352",
   "metadata": {},
   "source": [
    "\n",
    "\n",
    "Ans.1 )\n",
    "\n",
    "There are total 4 values & 3 Expression are available here , that are \n",
    "\n",
    "Values are = ( * , 'hello' ,  -87.8  , 6 )\n",
    "\n",
    "Expression are =  ( - , / , + )\n",
    "\n"
   ]
  },
  {
   "cell_type": "markdown",
   "id": "13bd092a",
   "metadata": {},
   "source": [
    "# Q.2) What is the difference between string and variable?"
   ]
  },
  {
   "cell_type": "markdown",
   "id": "8e2a77f9",
   "metadata": {},
   "source": [
    "\n",
    "Ans 2)\n",
    "\n",
    "A Variable is a container to store value in them and a String is a type of Values you would \n",
    "store in a Variable. A String is usually enclosed with \" \".\n",
    "\n"
   ]
  },
  {
   "cell_type": "markdown",
   "id": "65b7402e",
   "metadata": {},
   "source": [
    "# Q.3) Describe three different data types."
   ]
  },
  {
   "cell_type": "markdown",
   "id": "549b08c7",
   "metadata": {},
   "source": [
    "\n",
    "Ans.3)\n",
    "\n",
    "Three Different Data Type are :-\n",
    "\n",
    "a) Integer Data Type :-Integer Data Type is represented with the help of int class.\n",
    "It consists of positive or negative whole numbers (without fraction or decimal).\n",
    "\n",
    "b) Float Data Type :- Float Data Type is represented with the help of float class.\n",
    "It consists value which has Decimal point is Known as Float.\n",
    "\n",
    "c) String Data Type :- String Data Type is represented with the help of Str class.\n",
    " Strings has stored Alpha-Numeric value.\n",
    "\n"
   ]
  },
  {
   "cell_type": "markdown",
   "id": "23ae76cb",
   "metadata": {},
   "source": [
    "# Q.4) What is an expression made up of? What do all expressions do?"
   ]
  },
  {
   "cell_type": "markdown",
   "id": "dec53901",
   "metadata": {},
   "source": [
    "\n",
    "\n",
    "Ans 4)\n",
    "\n",
    "Expression is made up of mathematical operators.\n",
    "Various Types of Mathematical Operation are as follow :-\n",
    "\n",
    "a) Summation Operator ('+') :- Summation Operator is used to add two values / operand.\n",
    "eg :- 3+4 =7\n",
    "\n",
    "b) Subtraction Operator ('-') :- Substraction Operator is Used to Substract two values / operand.\n",
    "eg :- 8-2 =6\n",
    "\n",
    "c) Multiplication Operator (' * ') :- Multiplication Operator is used to Multiply two Values / operand.\n",
    "eg :- 5 * 3 =15\n",
    "\n",
    "d) DiVision Operator ('/') :- Division Operator is used to divide left operand with the right and the result is in Float.\n",
    "eg :- 7/2 =3.5\n",
    "\n",
    "e) Exponential Operator (' ** ') :- Left operand raised to the power of right.\n",
    "eg :- 2 ** 3 =8\n",
    "\n",
    "f) Modular Operator ('%') :- Remainder of the division of left operand by the right.\n",
    "eg :- 5%2 =1\n",
    "\n",
    "g) Floor Division Operator ('//') :- Division that results into whole number adjusted to the left in the number line.\n",
    "eg :- 7//3 =2\n",
    "\n"
   ]
  },
  {
   "cell_type": "markdown",
   "id": "0bf6ed56",
   "metadata": {},
   "source": [
    "# Q.5) This assignment statements, like spam = 10. What is the difference between an expression and a statement?"
   ]
  },
  {
   "cell_type": "markdown",
   "id": "d9fcd072",
   "metadata": {},
   "source": [
    "Ans.5) \n",
    "\n",
    "Expression is made up of mathematical operators while Assignment Statement is used to assign the values to variables.\n",
    " \n",
    " "
   ]
  },
  {
   "cell_type": "markdown",
   "id": "bf953c69",
   "metadata": {},
   "source": [
    "# Q.6) After running the following code, what does the variable bacon contain?\n"
   ]
  },
  {
   "cell_type": "markdown",
   "id": "2eee8d14",
   "metadata": {},
   "source": [
    "\n",
    "Ans.6)\n",
    "\n",
    "bacon = 22, \n",
    "\n",
    "bacon + 1\n",
    "\n",
    "Output :-\n",
    "Variable Bacon Contain = 23\n",
    "\n"
   ]
  },
  {
   "cell_type": "markdown",
   "id": "e49ff990",
   "metadata": {},
   "source": [
    "# Q.7) What should the values of the following two terms be?"
   ]
  },
  {
   "cell_type": "markdown",
   "id": "4028796d",
   "metadata": {},
   "source": [
    "\n",
    "Ans.7) \n",
    "\n",
    "'spam' + 'spamspam'  =   'spamspamspam'\n",
    "\n",
    "'spam' * 3           =   'spamspamspam'\n",
    "\n"
   ]
  },
  {
   "cell_type": "markdown",
   "id": "c4083261",
   "metadata": {},
   "source": [
    "# Q.8) Why is eggs a valid variable name while 100 is invalid?"
   ]
  },
  {
   "cell_type": "markdown",
   "id": "6ed9add5",
   "metadata": {},
   "source": [
    "\n",
    "Ans.8)\n",
    "\n",
    "As per python,Variable names cannot begin with a number. The python rules for naming a variable are :-\n",
    "\n",
    "Variable name must start with a letter or the underscore character.\n",
    "Variable name cannot start with a number.\n",
    "Variable name can only contain alpha-numeric characters and underscores (A-z, 0-9, & _ ).\n",
    "Variable names are case-sensitive (name, AMBARISH and ambarish are three different variables).\n",
    "The reserved words(keywords) cannot be used naming the variable.\n",
    "\n",
    "\n",
    "Now,\n",
    "\n",
    "eggs is a valid Variable name because variable can start with Alphabet.\n",
    "\n",
    "but\n",
    "\n",
    "100 is an Invalid Variable name because variable can't start with numeric value.\n",
    "\n"
   ]
  },
  {
   "cell_type": "markdown",
   "id": "ade0bd7c",
   "metadata": {},
   "source": [
    "# Q.9) What three functions can be used to get the integer, floating-point number, or string version of a value?"
   ]
  },
  {
   "cell_type": "markdown",
   "id": "081b308c",
   "metadata": {},
   "source": [
    "\n",
    "Ans 9)\n",
    "\n",
    "The int() , float() and  str()  functions will evaluate to the integer,floating-point number,string version\n",
    "of the value passed to them.\n",
    "\n"
   ]
  },
  {
   "cell_type": "code",
   "execution_count": 13,
   "id": "ec058c5e",
   "metadata": {},
   "outputs": [
    {
     "name": "stdout",
     "output_type": "stream",
     "text": [
      "int(10.0) ->  10\n",
      "float(10) ->  10.0\n",
      "str(10) ->  10\n"
     ]
    }
   ],
   "source": [
    "# Examples:\n",
    "print('int(10.0) -> ',int(10.0)) # int() function converts given input to int\n",
    "print('float(10) -> ',float(10)) # float() function converts given input to float\n",
    "print('str(10) -> ',str(10)) # str() function converts given input to string"
   ]
  },
  {
   "cell_type": "markdown",
   "id": "6e88b3c9",
   "metadata": {},
   "source": [
    "# Q.10) Why does this expression cause an error? How can you fix it?            \n",
    "\n",
    "# 'I have eaten' +  99  + 'burritos'\n"
   ]
  },
  {
   "cell_type": "markdown",
   "id": "14d2354d",
   "metadata": {},
   "source": [
    "Ans 10)\n",
    "\n",
    "This cause of error is 99 because 99 is not a string. \n",
    "99 must be typecasted to a string to fix this error. \n",
    "The correct way of representing is mentioned below:\n",
    "\n",
    "Input:\n",
    "\n",
    "'I have eaten ' + str(99) + 'burritos.'\n",
    "\n",
    "Output:\n",
    "\n",
    "'I have eaten 99 burritos.'\n"
   ]
  },
  {
   "cell_type": "code",
   "execution_count": 14,
   "id": "1ebebcab",
   "metadata": {},
   "outputs": [
    {
     "name": "stdout",
     "output_type": "stream",
     "text": [
      "I have eaten 99 burritos\n"
     ]
    }
   ],
   "source": [
    "print('I have eaten '+str(99)+' burritos')"
   ]
  },
  {
   "cell_type": "markdown",
   "id": "ef96ee9f",
   "metadata": {},
   "source": [
    "# Thanks & Regards\n",
    "# Ambarish Singh\n"
   ]
  }
 ],
 "metadata": {
  "kernelspec": {
   "display_name": "Python 3 (ipykernel)",
   "language": "python",
   "name": "python3"
  },
  "language_info": {
   "codemirror_mode": {
    "name": "ipython",
    "version": 3
   },
   "file_extension": ".py",
   "mimetype": "text/x-python",
   "name": "python",
   "nbconvert_exporter": "python",
   "pygments_lexer": "ipython3",
   "version": "3.9.7"
  }
 },
 "nbformat": 4,
 "nbformat_minor": 5
}
