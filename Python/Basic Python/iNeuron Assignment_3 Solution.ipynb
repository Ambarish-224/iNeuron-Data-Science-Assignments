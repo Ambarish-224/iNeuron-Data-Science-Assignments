{
 "cells": [
  {
   "cell_type": "markdown",
   "id": "1c03f63a",
   "metadata": {},
   "source": [
    "# Assignment 3 Solutions\n",
    "SUBMITTED BY: AMBARISH SINGH"
   ]
  },
  {
   "cell_type": "markdown",
   "id": "e14a9bb5",
   "metadata": {},
   "source": [
    "## Q.1) Why are functions advantageous to have in your programs?"
   ]
  },
  {
   "cell_type": "markdown",
   "id": "c7cbf79d",
   "metadata": {},
   "source": [
    "## Ans.1)"
   ]
  },
  {
   "cell_type": "markdown",
   "id": "93ca747e",
   "metadata": {},
   "source": [
    "Below are the advantages of functions in programming:-\n",
    "\n",
    "1) Functions reduce the need for duplicate code. This makes programs shorter, easier to read, and easier to update. The main advantage of functions is code Reusability.\n",
    "\n",
    "2) Increases program readability.\n",
    "\n",
    "3) Divide a complex problem into simpler ones.\n",
    "\n",
    "4) Reduces chances of error.\n",
    "\n",
    "5) Modifying a program becomes easier by using function"
   ]
  },
  {
   "cell_type": "markdown",
   "id": "95df555e",
   "metadata": {},
   "source": [
    "## Q.2) When does the code in a function run: when it's specified or when it's called?"
   ]
  },
  {
   "cell_type": "markdown",
   "id": "213d5fea",
   "metadata": {},
   "source": [
    "## Ans.2)"
   ]
  },
  {
   "cell_type": "markdown",
   "id": "f86f7152",
   "metadata": {},
   "source": [
    "The code in a function executes when the function is called, not when the function is specified. When a function is \"called\" the program \"leaves\" the current section of code and begins to execute the first line inside the function. Example is mentioned below:"
   ]
  },
  {
   "cell_type": "code",
   "execution_count": 1,
   "id": "5cb9995d",
   "metadata": {},
   "outputs": [
    {
     "name": "stdout",
     "output_type": "stream",
     "text": [
      "Ambarish iNeuron\n",
      "Sudhanshu iNeuron\n",
      "Krish iNeuron\n"
     ]
    }
   ],
   "source": [
    "def my_function(fname):\n",
    "  print(fname + \" iNeuron\")\n",
    "\n",
    "my_function(\"Ambarish\")\n",
    "my_function(\"Sudhanshu\")\n",
    "my_function(\"Krish\") "
   ]
  },
  {
   "cell_type": "markdown",
   "id": "e4f4a822",
   "metadata": {},
   "source": [
    "## Q.3) What statement creates a function?"
   ]
  },
  {
   "cell_type": "markdown",
   "id": "4ad4c4d5",
   "metadata": {},
   "source": [
    "## Ans.3)"
   ]
  },
  {
   "cell_type": "markdown",
   "id": "e0a2eed9",
   "metadata": {},
   "source": [
    "The def statement defines a function"
   ]
  },
  {
   "cell_type": "markdown",
   "id": "90f3b2c5",
   "metadata": {},
   "source": [
    "### Syntax of Function:\n",
    "def function_name(parameters): \"\"\"doc string\"\"\" -----function body----- -----function body----- return value"
   ]
  },
  {
   "cell_type": "code",
   "execution_count": 2,
   "id": "9f54f16e",
   "metadata": {},
   "outputs": [
    {
     "name": "stdout",
     "output_type": "stream",
     "text": [
      "Ambarish iNeuron\n",
      "Sudhanshu iNeuron\n",
      "Krish iNeuron\n"
     ]
    }
   ],
   "source": [
    "def my_function(fname):\n",
    "  print(fname + \" iNeuron\")\n",
    "\n",
    "my_function(\"Ambarish\")\n",
    "my_function(\"Sudhanshu\")\n",
    "my_function(\"Krish\") "
   ]
  },
  {
   "cell_type": "markdown",
   "id": "30e27785",
   "metadata": {},
   "source": [
    "## Q.4) What is the difference between a function and a function call?"
   ]
  },
  {
   "cell_type": "markdown",
   "id": "e9d6cc95",
   "metadata": {},
   "source": [
    "## Ans.4)"
   ]
  },
  {
   "cell_type": "markdown",
   "id": "8f1e0bc7",
   "metadata": {},
   "source": [
    " A function is a block of code that does a particular operation and returns a result. It usually accepts inputs as parameters and returns a result. The parameters are not mandatory. A function call is the code used to pass control to a function."
   ]
  },
  {
   "cell_type": "code",
   "execution_count": 3,
   "id": "0eba0f8c",
   "metadata": {},
   "outputs": [
    {
     "data": {
      "text/plain": [
       "16"
      ]
     },
     "execution_count": 3,
     "metadata": {},
     "output_type": "execute_result"
    }
   ],
   "source": [
    "#Function\n",
    "def square(x):\n",
    "    return x*x\n",
    "#Function Call\n",
    "(square(4))"
   ]
  },
  {
   "cell_type": "markdown",
   "id": "9bbcd041",
   "metadata": {},
   "source": [
    "## Q.5) How many global scopes are there in a Python program? How many local scopes?"
   ]
  },
  {
   "cell_type": "markdown",
   "id": "8f4b6775",
   "metadata": {},
   "source": [
    "## Ans.5)"
   ]
  },
  {
   "cell_type": "markdown",
   "id": "86bec9eb",
   "metadata": {},
   "source": [
    "There is one global scope, and a local scope is created whenever a function is called. A variable created inside a function belongs to the local scope of that function, and can only be used inside that function whereas A variable created in the main body of the Python code is a global variable and belongs to the global scope."
   ]
  },
  {
   "cell_type": "code",
   "execution_count": 4,
   "id": "4e2ba6cb",
   "metadata": {},
   "outputs": [
    {
     "name": "stdout",
     "output_type": "stream",
     "text": [
      "300\n"
     ]
    }
   ],
   "source": [
    "#Example of Local Scope\n",
    "def myfunc():\n",
    "  x = 300\n",
    "  def myinnerfunc():\n",
    "    print(x)\n",
    "  myinnerfunc()\n",
    "\n",
    "myfunc() "
   ]
  },
  {
   "cell_type": "code",
   "execution_count": 5,
   "id": "957257f9",
   "metadata": {},
   "outputs": [
    {
     "name": "stdout",
     "output_type": "stream",
     "text": [
      "300\n",
      "300\n"
     ]
    }
   ],
   "source": [
    "#Example of Global Scope\n",
    "x = 300\n",
    "\n",
    "def myfunc():\n",
    "  print(x)\n",
    "\n",
    "myfunc()\n",
    "\n",
    "print(x) "
   ]
  },
  {
   "cell_type": "markdown",
   "id": "f45bd81e",
   "metadata": {},
   "source": [
    "## Q.6) What happens to variables in a local scope when the function call returns?"
   ]
  },
  {
   "cell_type": "markdown",
   "id": "d18d15e6",
   "metadata": {},
   "source": [
    "## Ans.6)"
   ]
  },
  {
   "cell_type": "markdown",
   "id": "812c0cc1",
   "metadata": {},
   "source": [
    "When a function returns, the local scope is destroyed, and all the variables in it are forgotten. A local variable becomes undefined after the function call completes"
   ]
  },
  {
   "cell_type": "markdown",
   "id": "8ab22651",
   "metadata": {},
   "source": [
    "## Q.7) What is the concept of a return value? Is it possible to have a return value in an expression?"
   ]
  },
  {
   "cell_type": "markdown",
   "id": "3a0335c2",
   "metadata": {},
   "source": [
    "## Ans.7)"
   ]
  },
  {
   "cell_type": "markdown",
   "id": "e809ceb6",
   "metadata": {},
   "source": [
    "The Python return statement is a key component of functions and methods. We can use the return statement to make functions send Python objects back to the caller code. These objects are known as the function’s return value. A return value is the value that a function call evaluates to. Like any value, a return value can be used as part of an expression."
   ]
  },
  {
   "cell_type": "markdown",
   "id": "430807c3",
   "metadata": {},
   "source": [
    "## Q.8) If a function does not have a return statement, what is the return value of a call to that function?"
   ]
  },
  {
   "cell_type": "markdown",
   "id": "11986161",
   "metadata": {},
   "source": [
    "## Ans.8)"
   ]
  },
  {
   "cell_type": "markdown",
   "id": "417bc890",
   "metadata": {},
   "source": [
    "If there is no return statement for a function, its return value is None. The function always returns None if explicit return is not written."
   ]
  },
  {
   "cell_type": "markdown",
   "id": "b6dd9f18",
   "metadata": {},
   "source": [
    "## Q.9) How do you make a function variable refer to the global variable?"
   ]
  },
  {
   "cell_type": "markdown",
   "id": "866875b5",
   "metadata": {},
   "source": [
    "## Ans.9)"
   ]
  },
  {
   "cell_type": "markdown",
   "id": "392e7e95",
   "metadata": {},
   "source": [
    "A global statement will force a variable in a function to refer to the global variable. If you want to refer to a global variable in a function, you can use the global keyword to declare which variables are global."
   ]
  },
  {
   "cell_type": "markdown",
   "id": "645bd950",
   "metadata": {},
   "source": [
    "## Q.10) What is the data type of None?"
   ]
  },
  {
   "cell_type": "markdown",
   "id": "0a725287",
   "metadata": {},
   "source": [
    "## Ans.10)"
   ]
  },
  {
   "cell_type": "markdown",
   "id": "c6a4533a",
   "metadata": {},
   "source": [
    "The data type of None is NoneType."
   ]
  },
  {
   "cell_type": "markdown",
   "id": "1119b6d0",
   "metadata": {},
   "source": [
    "## Q.11) What does the sentence import areallyourpetsnamederic do?"
   ]
  },
  {
   "cell_type": "markdown",
   "id": "baf3ac40",
   "metadata": {},
   "source": [
    "## Ans.11)"
   ]
  },
  {
   "cell_type": "markdown",
   "id": "88c31dce",
   "metadata": {},
   "source": [
    "That import statement imports a module named areallyourpetsnamederic."
   ]
  },
  {
   "cell_type": "markdown",
   "id": "6f858086",
   "metadata": {},
   "source": [
    "## Q.12) If you had a bacon() feature in a spam module, what would you call it after importing spam?"
   ]
  },
  {
   "cell_type": "markdown",
   "id": "943e6c57",
   "metadata": {},
   "source": [
    "## Ans.12)"
   ]
  },
  {
   "cell_type": "markdown",
   "id": "c657fd7a",
   "metadata": {},
   "source": [
    " This function can be called with spam.bacon()."
   ]
  },
  {
   "cell_type": "markdown",
   "id": "ce4007bb",
   "metadata": {},
   "source": [
    "## Q.13) What can you do to save a programme from crashing if it encounters an error?"
   ]
  },
  {
   "cell_type": "markdown",
   "id": "5421318a",
   "metadata": {},
   "source": [
    "## Ans.13)"
   ]
  },
  {
   "cell_type": "markdown",
   "id": "e609c19c",
   "metadata": {},
   "source": [
    "We can place the line of code that might cause an error in a try clause and use except block to handle the error as mentioned below:"
   ]
  },
  {
   "cell_type": "code",
   "execution_count": 7,
   "id": "ddf4dcc0",
   "metadata": {},
   "outputs": [
    {
     "name": "stdout",
     "output_type": "stream",
     "text": [
      "300\n"
     ]
    }
   ],
   "source": [
    "try:\n",
    "  print(x)\n",
    "except:\n",
    "  print(\"An exception occurred\") "
   ]
  },
  {
   "cell_type": "markdown",
   "id": "8219cf35",
   "metadata": {},
   "source": [
    "## Q.14)  What is the purpose of the try clause? What is the purpose of the except clause?"
   ]
  },
  {
   "cell_type": "markdown",
   "id": "23fd8899",
   "metadata": {},
   "source": [
    "## Ans.14) "
   ]
  },
  {
   "cell_type": "code",
   "execution_count": 8,
   "id": "2eee2d1e",
   "metadata": {},
   "outputs": [
    {
     "name": "stdout",
     "output_type": "stream",
     "text": [
      "700\n"
     ]
    }
   ],
   "source": [
    "x = 700\n",
    "try:\n",
    "  print(x)\n",
    "except NameError:\n",
    "  print(\"Variable x is not defined\")\n",
    "except:\n",
    "  print(\"Something else went wrong\") "
   ]
  },
  {
   "cell_type": "markdown",
   "id": "8a23ec58",
   "metadata": {},
   "source": [
    "# Thank You"
   ]
  }
 ],
 "metadata": {
  "kernelspec": {
   "display_name": "Python 3 (ipykernel)",
   "language": "python",
   "name": "python3"
  },
  "language_info": {
   "codemirror_mode": {
    "name": "ipython",
    "version": 3
   },
   "file_extension": ".py",
   "mimetype": "text/x-python",
   "name": "python",
   "nbconvert_exporter": "python",
   "pygments_lexer": "ipython3",
   "version": "3.9.7"
  }
 },
 "nbformat": 4,
 "nbformat_minor": 5
}
