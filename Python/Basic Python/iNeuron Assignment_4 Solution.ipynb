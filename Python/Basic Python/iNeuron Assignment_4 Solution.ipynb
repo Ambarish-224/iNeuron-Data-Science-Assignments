{
 "cells": [
  {
   "cell_type": "markdown",
   "id": "781168ab",
   "metadata": {},
   "source": [
    "# Assignment_4 Solutions\n",
    "SUBMITTED BY: AMBARISH SINGH"
   ]
  },
  {
   "cell_type": "markdown",
   "id": "cd87a043",
   "metadata": {},
   "source": [
    "## Q.1) What exactly is [ ]?"
   ]
  },
  {
   "cell_type": "markdown",
   "id": "c9797396",
   "metadata": {},
   "source": [
    "## Ans.1)"
   ]
  },
  {
   "cell_type": "code",
   "execution_count": 1,
   "id": "ba54845e",
   "metadata": {},
   "outputs": [
    {
     "name": "stdout",
     "output_type": "stream",
     "text": [
      "Values of a: []\n",
      "Type of a: <class 'list'>\n",
      "Size of a: 0\n"
     ]
    }
   ],
   "source": [
    "# Python program to declare\n",
    "# empty list\n",
    "\n",
    "# list is declared\n",
    "a = []\t\t\n",
    "\n",
    "print(\"Values of a:\", a)\n",
    "print(\"Type of a:\", type(a))\n",
    "print(\"Size of a:\", len(a))\t"
   ]
  },
  {
   "cell_type": "markdown",
   "id": "89c4b798",
   "metadata": {},
   "source": [
    "## Q.2) In a list of values stored in a variable called spam, how would you assign the value 'hello' as the third value? (Assume [2, 4, 6, 8, 10] are in spam.)"
   ]
  },
  {
   "cell_type": "markdown",
   "id": "fa5bf298",
   "metadata": {},
   "source": [
    "## Ans.2)"
   ]
  },
  {
   "cell_type": "markdown",
   "id": "2afcf71b",
   "metadata": {},
   "source": [
    "spam[2] ='hello' (Note: Lists follows zero based indexing)"
   ]
  },
  {
   "cell_type": "code",
   "execution_count": 3,
   "id": "153725c8",
   "metadata": {},
   "outputs": [
    {
     "name": "stdout",
     "output_type": "stream",
     "text": [
      "[2, 4, 6, 8, 10]\n",
      "[2, 4, 'hello', 8, 10]\n"
     ]
    }
   ],
   "source": [
    "# Example\n",
    "spam=[2,4,6,8,10]\n",
    "print(spam)\n",
    "spam[2]='hello' #List uses zero based indexing\n",
    "print(spam)"
   ]
  },
  {
   "cell_type": "markdown",
   "id": "e5200670",
   "metadata": {},
   "source": [
    "### Let's pretend the spam includes the list ['a','b','c',d'] for the next three queries."
   ]
  },
  {
   "cell_type": "markdown",
   "id": "9870c032",
   "metadata": {},
   "source": [
    "## Q.3) What is the value of spam[int(int('3'*2)//11)] ?"
   ]
  },
  {
   "cell_type": "markdown",
   "id": "e56136ae",
   "metadata": {},
   "source": [
    "## Ans.3) "
   ]
  },
  {
   "cell_type": "markdown",
   "id": "0d155b5f",
   "metadata": {},
   "source": [
    "'d' ('3' * 2 is the string '33', which is passed to int() before being divided by 11. This eventually evaluates to 3, spam[3] is equal to d.)"
   ]
  },
  {
   "cell_type": "code",
   "execution_count": 5,
   "id": "0aaf137a",
   "metadata": {},
   "outputs": [
    {
     "name": "stdout",
     "output_type": "stream",
     "text": [
      "spam[int(int('3'*2)//11)] -> d\n"
     ]
    }
   ],
   "source": [
    "spam=['a','b','c','d']\n",
    "print(\"spam[int(int('3'*2)//11)] ->\",spam[int(int('3'*2)//11)])"
   ]
  },
  {
   "cell_type": "markdown",
   "id": "523361d8",
   "metadata": {},
   "source": [
    "## Q.4) What is the value of spam[-1]?"
   ]
  },
  {
   "cell_type": "markdown",
   "id": "7522d5ec",
   "metadata": {},
   "source": [
    "## Ans.4)"
   ]
  },
  {
   "cell_type": "markdown",
   "id": "da5f7b88",
   "metadata": {},
   "source": [
    "'d' (Lists support Negative indexing, Hence spam[-1] returs 'd'). -1 index returns last item of the list"
   ]
  },
  {
   "cell_type": "code",
   "execution_count": 7,
   "id": "2931866e",
   "metadata": {},
   "outputs": [
    {
     "name": "stdout",
     "output_type": "stream",
     "text": [
      "spam[-1] ->  d\n"
     ]
    }
   ],
   "source": [
    "spam=['a','b','c','d']\n",
    "print('spam[-1] -> ',spam[-1])"
   ]
  },
  {
   "cell_type": "markdown",
   "id": "2a482ca2",
   "metadata": {},
   "source": [
    "## Q.5) What is the value of spam[:2]?"
   ]
  },
  {
   "cell_type": "markdown",
   "id": "d0eec138",
   "metadata": {},
   "source": [
    "## Ans.5) "
   ]
  },
  {
   "cell_type": "markdown",
   "id": "cdb22ef8",
   "metadata": {},
   "source": [
    " spam[:2] returns all elements in the list spam from 0 to 2 excluding 2"
   ]
  },
  {
   "cell_type": "code",
   "execution_count": 8,
   "id": "f34b6fd0",
   "metadata": {},
   "outputs": [
    {
     "name": "stdout",
     "output_type": "stream",
     "text": [
      "['a', 'b', 'c', 'd']\n",
      "['a', 'b']\n"
     ]
    }
   ],
   "source": [
    "print(spam)\n",
    "print(spam[:2])"
   ]
  },
  {
   "cell_type": "markdown",
   "id": "ae29ff5d",
   "metadata": {},
   "source": [
    "### Let's pretend bacon has the list [3.14,'cat',11,'cat',True] for the next three question"
   ]
  },
  {
   "cell_type": "markdown",
   "id": "02612b20",
   "metadata": {},
   "source": [
    "## Q.6) What is the value of bacon.index('cat')?"
   ]
  },
  {
   "cell_type": "markdown",
   "id": "c1660a60",
   "metadata": {},
   "source": [
    "## Ans.6)"
   ]
  },
  {
   "cell_type": "markdown",
   "id": "ee020f37",
   "metadata": {},
   "source": [
    "The value of bacon.index('cat') is 1 (Index method returns the index of first occuerence of 'cat')"
   ]
  },
  {
   "cell_type": "code",
   "execution_count": 9,
   "id": "2b98e7b7",
   "metadata": {},
   "outputs": [
    {
     "name": "stdout",
     "output_type": "stream",
     "text": [
      "bacon.index('cat') -> 1\n"
     ]
    }
   ],
   "source": [
    "bacon=[3.14,'cat',11,'cat',True]\n",
    "print(\"bacon.index('cat') ->\",bacon.index('cat'))"
   ]
  },
  {
   "cell_type": "markdown",
   "id": "4c626222",
   "metadata": {},
   "source": [
    "## Q.7) How does bacon.append(99) change the look of the list value in bacon?"
   ]
  },
  {
   "cell_type": "markdown",
   "id": "ee04476d",
   "metadata": {},
   "source": [
    "## Ans.7)"
   ]
  },
  {
   "cell_type": "markdown",
   "id": "c2c4e79f",
   "metadata": {},
   "source": [
    " The append method adds new elements to the end of the list"
   ]
  },
  {
   "cell_type": "code",
   "execution_count": 10,
   "id": "6850b11a",
   "metadata": {},
   "outputs": [
    {
     "name": "stdout",
     "output_type": "stream",
     "text": [
      "[3.14, 'cat', 11, 'cat', True]\n",
      "[3.14, 'cat', 11, 'cat', True, 99]\n"
     ]
    }
   ],
   "source": [
    "# Example\n",
    "print(bacon)\n",
    "bacon.append(99) # appends 99 to the end of the list\n",
    "print(bacon)"
   ]
  },
  {
   "cell_type": "markdown",
   "id": "4b56a83d",
   "metadata": {},
   "source": [
    "## Q.8) How does bacon.remove('cat') change the look of the list in bacon?"
   ]
  },
  {
   "cell_type": "markdown",
   "id": "3368fed3",
   "metadata": {},
   "source": [
    "## Ans.8)"
   ]
  },
  {
   "cell_type": "markdown",
   "id": "75c9b7f0",
   "metadata": {},
   "source": [
    "The remove method removes the first occurence of the element in the list"
   ]
  },
  {
   "cell_type": "code",
   "execution_count": 11,
   "id": "94472108",
   "metadata": {},
   "outputs": [
    {
     "name": "stdout",
     "output_type": "stream",
     "text": [
      "[3.14, 'cat', 11, 'cat', True, 99]\n",
      "[3.14, 11, 'cat', True, 99]\n"
     ]
    }
   ],
   "source": [
    "print(bacon)\n",
    "bacon.remove('cat')\n",
    "print(bacon)"
   ]
  },
  {
   "cell_type": "markdown",
   "id": "e1d5f48e",
   "metadata": {},
   "source": [
    "## Q.9) what are the list concatenation and list replication operations?"
   ]
  },
  {
   "cell_type": "markdown",
   "id": "31a1c169",
   "metadata": {},
   "source": [
    "## Ans.9)"
   ]
  },
  {
   "cell_type": "markdown",
   "id": "7981a074",
   "metadata": {},
   "source": [
    " The operator for list concatenation is +, while the operator for replication is *. (This is the same as for strings.)"
   ]
  },
  {
   "cell_type": "code",
   "execution_count": 12,
   "id": "f3b86ae3",
   "metadata": {},
   "outputs": [
    {
     "name": "stdout",
     "output_type": "stream",
     "text": [
      "['ML', 'DL', 'AI', 'CV', 'NLP', 'RNN', 'CNN', 'SVN']\n",
      "['RNN', 'CNN', 'SVN', 'RNN', 'CNN', 'SVN']\n"
     ]
    }
   ],
   "source": [
    "# Example\n",
    "list_1 = ['ML','DL','AI','CV','NLP']\n",
    "list_2 = ['RNN','CNN','SVN']\n",
    "print(list_1 + list_2) # List Concatenation\n",
    "print(list_2*2) # List Replication"
   ]
  },
  {
   "cell_type": "markdown",
   "id": "8426b80b",
   "metadata": {},
   "source": [
    "## Q.10) what is the difference between the list method append() and insert()?"
   ]
  },
  {
   "cell_type": "markdown",
   "id": "123de4bb",
   "metadata": {},
   "source": [
    "## Ans.10) "
   ]
  },
  {
   "cell_type": "markdown",
   "id": "07a04ab3",
   "metadata": {},
   "source": [
    "While append() will add values only to the end of a list, insert() can add them anywhere in the list."
   ]
  },
  {
   "cell_type": "code",
   "execution_count": 14,
   "id": "44dbbe8a",
   "metadata": {},
   "outputs": [
    {
     "name": "stdout",
     "output_type": "stream",
     "text": [
      "[1, 2, 3, 4, 5, 100]\n",
      "[1, 2, 'iNeuron', 3, 4, 5, 100]\n"
     ]
    }
   ],
   "source": [
    "#Examples\n",
    "list = [1,2,3,4,5]\n",
    "list.append(100)\n",
    "print(list)\n",
    "list.insert(2,'iNeuron')\n",
    "print(list)"
   ]
  },
  {
   "cell_type": "markdown",
   "id": "30d557ea",
   "metadata": {},
   "source": [
    "## Q.11) What are the two methods for removing items from a list?"
   ]
  },
  {
   "cell_type": "markdown",
   "id": "58e55dd9",
   "metadata": {},
   "source": [
    "## Ans.11)"
   ]
  },
  {
   "cell_type": "markdown",
   "id": "bb2f2924",
   "metadata": {},
   "source": [
    ": The del statement and the remove() method are two ways to remove values from a list"
   ]
  },
  {
   "cell_type": "code",
   "execution_count": 16,
   "id": "74ba6237",
   "metadata": {},
   "outputs": [
    {
     "data": {
      "text/plain": [
       "[1, 2, 2, 3, 4, 5]"
      ]
     },
     "execution_count": 16,
     "metadata": {},
     "output_type": "execute_result"
    }
   ],
   "source": [
    "# assign list\n",
    "numbers = [1, 2, 3, 2, 3, 4, 5]\n",
    "  \n",
    "# use del\n",
    "del numbers[2]\n",
    "\n",
    "numbers"
   ]
  },
  {
   "cell_type": "code",
   "execution_count": 17,
   "id": "c93596d1",
   "metadata": {},
   "outputs": [
    {
     "data": {
      "text/plain": [
       "[1, 2, 2, 3, 4, 5]"
      ]
     },
     "execution_count": 17,
     "metadata": {},
     "output_type": "execute_result"
    }
   ],
   "source": [
    "# assign list\n",
    "numbers1 = [1, 2, 3, 2, 3, 4, 5]\n",
    "  \n",
    "# use remove()\n",
    "numbers1.remove(3)\n",
    "numbers1"
   ]
  },
  {
   "cell_type": "markdown",
   "id": "179a47a6",
   "metadata": {},
   "source": [
    "## Q.12) Describe how list values and string values are identical."
   ]
  },
  {
   "cell_type": "markdown",
   "id": "6bf95b0a",
   "metadata": {},
   "source": [
    "## Ans.12)"
   ]
  },
  {
   "cell_type": "markdown",
   "id": "6ce2f5fb",
   "metadata": {},
   "source": [
    "Below are some reasons how list values and string values are identical:\n",
    "\n",
    "1) Both lists and strings can be passed to len() function\n",
    "\n",
    "2) Have indexes and slices, be used in for loops,\n",
    "\n",
    "3) Can be concatenated or replicated\n",
    "\n",
    "4) Can be used with the in and not in operators."
   ]
  },
  {
   "cell_type": "markdown",
   "id": "24d3ed2e",
   "metadata": {},
   "source": [
    "## Q.13) What's the difference between tuples and lists?"
   ]
  },
  {
   "cell_type": "markdown",
   "id": "bf26bb2f",
   "metadata": {},
   "source": [
    "## Ans.13)"
   ]
  },
  {
   "cell_type": "markdown",
   "id": "2b2240d1",
   "metadata": {},
   "source": [
    "Lists are Mutable, Indexable and Slicable. they can have values added, removed, or changed. Tuples are Immutable but Indexable and Slicable. the tuple values cannot be changed at all. Also, tuples are represented using parentheses, (), while lists use the square brackets, []."
   ]
  },
  {
   "cell_type": "code",
   "execution_count": 19,
   "id": "1ff849ea",
   "metadata": {},
   "outputs": [
    {
     "name": "stdout",
     "output_type": "stream",
     "text": [
      "[1, 2, 3, 4]\n",
      "(1, 2, 3, 4)\n"
     ]
    }
   ],
   "source": [
    "list_num = [1,2,3,4]\n",
    "tup_num = (1,2,3,4)\n",
    "\n",
    "print(list_num)\n",
    "print(tup_num)"
   ]
  },
  {
   "cell_type": "markdown",
   "id": "5b3b255b",
   "metadata": {},
   "source": [
    "## Q.14) How do you type a tuple value that only contains the integer 42?"
   ]
  },
  {
   "cell_type": "markdown",
   "id": "eea81002",
   "metadata": {},
   "source": [
    "## Ans.14)"
   ]
  },
  {
   "cell_type": "markdown",
   "id": "4bf999cd",
   "metadata": {},
   "source": [
    "(42,) (The trailing comma is mandatory. otherwise its considered as a int by python Interpreter)"
   ]
  },
  {
   "cell_type": "code",
   "execution_count": 20,
   "id": "e2aac2dc",
   "metadata": {},
   "outputs": [
    {
     "name": "stdout",
     "output_type": "stream",
     "text": [
      "<class 'int'>\n",
      "<class 'tuple'>\n"
     ]
    }
   ],
   "source": [
    "tup1=(42)\n",
    "tup2=(42,)\n",
    "print(type(tup1))\n",
    "print(type(tup2))"
   ]
  },
  {
   "cell_type": "markdown",
   "id": "2446823b",
   "metadata": {},
   "source": [
    "## Q.15) How do you get a list value's tuple form? How do you get a tuple value's list form?"
   ]
  },
  {
   "cell_type": "markdown",
   "id": "4d49e65d",
   "metadata": {},
   "source": [
    "## Ans.15) "
   ]
  },
  {
   "cell_type": "markdown",
   "id": "ee23cd63",
   "metadata": {},
   "source": [
    "The tuple() and list() functions, respectively are used to convert a list to tuple and vice versa"
   ]
  },
  {
   "cell_type": "markdown",
   "id": "68922cfb",
   "metadata": {},
   "source": [
    "## Q.16) Variables that \"contain\" list values are not necessarily lists themselves. Instead, what do they contain?"
   ]
  },
  {
   "cell_type": "markdown",
   "id": "905dfe86",
   "metadata": {},
   "source": [
    "## Ans.16)"
   ]
  },
  {
   "cell_type": "markdown",
   "id": "6cde8442",
   "metadata": {},
   "source": [
    "They contain references to list values."
   ]
  },
  {
   "cell_type": "markdown",
   "id": "d257de41",
   "metadata": {},
   "source": [
    "## Q.17) How do you distinguish between copy.copy() and copy.deepcopy()?"
   ]
  },
  {
   "cell_type": "markdown",
   "id": "3f678069",
   "metadata": {},
   "source": [
    "## Ans.17)"
   ]
  },
  {
   "cell_type": "markdown",
   "id": "2cc6804c",
   "metadata": {},
   "source": [
    "The copy.copy() function will do a shallow copy of a list, while the copy.deepcopy() function will do a deep copy of a list. That is, only copy.deepcopy() will duplicate any lists inside the list."
   ]
  },
  {
   "cell_type": "code",
   "execution_count": 21,
   "id": "aa6c138c",
   "metadata": {},
   "outputs": [],
   "source": [
    "# importing copy module\n",
    "import copy\n",
    "\n",
    "# initializing list 1\n",
    "li1 = [1, 2, [3,5], 4]\n",
    "\n",
    "\n",
    "# using copy for shallow copy\n",
    "li2 = copy.copy(li1)\n",
    "\n",
    "# using deepcopy for deepcopy\n",
    "li3 = copy.deepcopy(li1)"
   ]
  },
  {
   "cell_type": "markdown",
   "id": "2eb20345",
   "metadata": {},
   "source": [
    "# Thank You"
   ]
  }
 ],
 "metadata": {
  "kernelspec": {
   "display_name": "Python 3 (ipykernel)",
   "language": "python",
   "name": "python3"
  },
  "language_info": {
   "codemirror_mode": {
    "name": "ipython",
    "version": 3
   },
   "file_extension": ".py",
   "mimetype": "text/x-python",
   "name": "python",
   "nbconvert_exporter": "python",
   "pygments_lexer": "ipython3",
   "version": "3.9.7"
  }
 },
 "nbformat": 4,
 "nbformat_minor": 5
}
