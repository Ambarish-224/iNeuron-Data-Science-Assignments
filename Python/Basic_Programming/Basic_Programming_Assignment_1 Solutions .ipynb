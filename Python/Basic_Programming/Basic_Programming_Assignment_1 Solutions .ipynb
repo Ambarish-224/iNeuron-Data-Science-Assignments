{
 "cells": [
  {
   "cell_type": "markdown",
   "id": "27d69e21",
   "metadata": {},
   "source": [
    "# Basic_Programming_Assignment_1 Solutions :-"
   ]
  },
  {
   "cell_type": "markdown",
   "id": "d05476c8",
   "metadata": {},
   "source": [
    "SUBMITTED BY :\n",
    "AMBARISH SINGH    "
   ]
  },
  {
   "cell_type": "markdown",
   "id": "2e7f457b",
   "metadata": {},
   "source": [
    "# Q.1) Write a Python program to print \"Hello Python\" ?"
   ]
  },
  {
   "cell_type": "markdown",
   "id": "39d259f1",
   "metadata": {},
   "source": [
    "# Ans:"
   ]
  },
  {
   "cell_type": "code",
   "execution_count": 1,
   "id": "532bd2fc",
   "metadata": {},
   "outputs": [
    {
     "name": "stdout",
     "output_type": "stream",
     "text": [
      "Hello Python\n"
     ]
    }
   ],
   "source": [
    "print(\"Hello Python\")"
   ]
  },
  {
   "cell_type": "markdown",
   "id": "3d074370",
   "metadata": {},
   "source": [
    "# Q.2) Write a Python program to do arithmetical operations addition and division ?"
   ]
  },
  {
   "cell_type": "markdown",
   "id": "29daf66b",
   "metadata": {},
   "source": [
    "# Ans:"
   ]
  },
  {
   "cell_type": "code",
   "execution_count": 2,
   "id": "8b3c305c",
   "metadata": {},
   "outputs": [
    {
     "name": "stdout",
     "output_type": "stream",
     "text": [
      " A = 20\n",
      " B = 4\n",
      "Addition =  24\n",
      "Division  5\n"
     ]
    }
   ],
   "source": [
    "A = int(input(\" A = \"))\n",
    "B = int(input(\" B = \"))\n",
    "Addition = A + B\n",
    "Division = A // B\n",
    "\n",
    "print(\"Addition = \", Addition)\n",
    "print (\"Division \", Division)"
   ]
  },
  {
   "cell_type": "markdown",
   "id": "4949e295",
   "metadata": {},
   "source": [
    "# Q.3) Write a Python program to find the area of a triangle ?"
   ]
  },
  {
   "cell_type": "markdown",
   "id": "0fa2fcc8",
   "metadata": {},
   "source": [
    "# Ans:"
   ]
  },
  {
   "cell_type": "code",
   "execution_count": 3,
   "id": "410fbb2f",
   "metadata": {},
   "outputs": [
    {
     "name": "stdout",
     "output_type": "stream",
     "text": [
      "Base = 3\n",
      "Height = 6\n",
      "Area of Triangle is =  9.0\n"
     ]
    }
   ],
   "source": [
    "Base = int(input(\"Base = \"))\n",
    "Height = int(input(\"Height = \"))\n",
    "Area_of_Triangle = (1/2)*Base*Height\n",
    "\n",
    "print(\"Area of Triangle is = \", Area_of_Triangle)"
   ]
  },
  {
   "cell_type": "markdown",
   "id": "71f0afa3",
   "metadata": {},
   "source": [
    "# Q.4) Write a Python program to swap two variables?"
   ]
  },
  {
   "cell_type": "markdown",
   "id": "21be0989",
   "metadata": {},
   "source": [
    "# Ans:"
   ]
  },
  {
   "cell_type": "code",
   "execution_count": 7,
   "id": "21413ade",
   "metadata": {},
   "outputs": [
    {
     "name": "stdout",
     "output_type": "stream",
     "text": [
      "Enter X value = 5\n",
      "Enter Y value = 8\n",
      "After Swapping X Value is =  8\n",
      "After Swapping Y Value is =  5\n"
     ]
    }
   ],
   "source": [
    "X = int(input(\"Enter X value = \"))\n",
    "Y = int(input(\"Enter Y value = \"))\n",
    "\n",
    "X, Y = Y, X\n",
    "print(\"After Swapping X Value is = \",X)\n",
    "print(\"After Swapping Y Value is = \",Y)"
   ]
  },
  {
   "cell_type": "markdown",
   "id": "1661df32",
   "metadata": {},
   "source": [
    "# Q.5) Write a Python program to generate a random number ?"
   ]
  },
  {
   "cell_type": "markdown",
   "id": "0848f28b",
   "metadata": {},
   "source": [
    "# Ans:"
   ]
  },
  {
   "cell_type": "code",
   "execution_count": 10,
   "id": "afbfaa65",
   "metadata": {},
   "outputs": [
    {
     "name": "stdout",
     "output_type": "stream",
     "text": [
      "Random number = 4\n"
     ]
    }
   ],
   "source": [
    "import random\n",
    "n = random.randint(0,24)\n",
    "print(\"Random number =\",n)"
   ]
  },
  {
   "cell_type": "markdown",
   "id": "baafe83d",
   "metadata": {},
   "source": [
    "#                                     THANK YOU "
   ]
  }
 ],
 "metadata": {
  "kernelspec": {
   "display_name": "Python 3 (ipykernel)",
   "language": "python",
   "name": "python3"
  },
  "language_info": {
   "codemirror_mode": {
    "name": "ipython",
    "version": 3
   },
   "file_extension": ".py",
   "mimetype": "text/x-python",
   "name": "python",
   "nbconvert_exporter": "python",
   "pygments_lexer": "ipython3",
   "version": "3.9.7"
  }
 },
 "nbformat": 4,
 "nbformat_minor": 5
}
