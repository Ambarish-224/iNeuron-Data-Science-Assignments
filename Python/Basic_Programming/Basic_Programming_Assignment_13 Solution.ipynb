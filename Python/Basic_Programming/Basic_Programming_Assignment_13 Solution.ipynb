{
 "cells": [
  {
   "cell_type": "markdown",
   "id": "06c0b9f4",
   "metadata": {},
   "source": [
    "# Basic_Programming_Assignment_13 Solution :-\n",
    "SUBMITTED BY : AMBARISH SINGH"
   ]
  },
  {
   "cell_type": "markdown",
   "id": "d9f42213",
   "metadata": {},
   "source": [
    "## 1.Write a program that calculates and prints the value according to the given formula:\n",
    "\n"
   ]
  },
  {
   "cell_type": "markdown",
   "id": "287faf79",
   "metadata": {},
   "source": [
    "Q = Square root of [(2 * C * D)/H]\n",
    "\n",
    "Following are the fixed values of C and H:\n",
    "\n",
    "C is 50. H is 30.\n",
    "\n",
    "D is the variable whose values should be input to your program in a comma-separated sequence.\n",
    "\n",
    "\n",
    "Example: Let us assume the following comma separated input sequence is given to the program:100,150,180\n",
    "\n",
    "The output of the program should be: 18,22,24"
   ]
  },
  {
   "cell_type": "code",
   "execution_count": 1,
   "id": "d022c1cf",
   "metadata": {},
   "outputs": [
    {
     "name": "stdout",
     "output_type": "stream",
     "text": [
      "Enter the Input: 100,200,300\n",
      "Output: 18,25,31\n"
     ]
    }
   ],
   "source": [
    "from math import sqrt\n",
    "def calculateProgram():\n",
    "    in_num = eval(input(\"Enter the Input: \"))\n",
    "    out_num = []\n",
    "    C = 50 # Declaring and initializing constant C\n",
    "    H = 30 # Declaring and initializing constant H\n",
    "    for ele in in_num:\n",
    "        Q = str(int(sqrt((2*C*ele)/H)))\n",
    "        out_num.append(Q)\n",
    "    print(\"Output: {}\".format(','.join(out_num)))\n",
    "    \n",
    "calculateProgram()"
   ]
  },
  {
   "cell_type": "markdown",
   "id": "f7c8894d",
   "metadata": {},
   "source": [
    "## 2.Write a program which takes 2 digits, X,Y as input and generates a 2-dimensional array. The element value in the i-th row and j-th column of the array should be i*j.\n",
    "\n",
    "Note: i=0,1.., X-1; j=0,1,¡Y-1.\n",
    "\n",
    "Example: Suppose the following inputs are given to the program: 3,5\n",
    "\n",
    "Then, the output of the program should be:[[0, 0, 0, 0, 0], [0, 1, 2, 3, 4], [0, 2, 4, 6, 8]]"
   ]
  },
  {
   "cell_type": "code",
   "execution_count": 2,
   "id": "c8045784",
   "metadata": {},
   "outputs": [
    {
     "name": "stdout",
     "output_type": "stream",
     "text": [
      "Enter the No of Rows:4\n",
      "Enter the No of Columns:8\n",
      "[[0, 0, 0, 0, 0, 0, 0, 0], [0, 1, 2, 3, 4, 5, 6, 7], [0, 2, 4, 6, 8, 10, 12, 14], [0, 3, 6, 9, 12, 15, 18, 21]]\n"
     ]
    }
   ],
   "source": [
    "import array as arr\n",
    "def generateArray():\n",
    "    in_x = int(input('Enter the No of Rows:'))\n",
    "    in_y = int(input('Enter the No of Columns:')) \n",
    "    out_array = []\n",
    "    for ele in range(in_x):\n",
    "        out_array.insert(in_x,[])\n",
    "        for sub_ele in range(in_y):\n",
    "            out_array[ele].append(ele*sub_ele)\n",
    "    print(out_array)\n",
    "    \n",
    "generateArray()"
   ]
  },
  {
   "cell_type": "markdown",
   "id": "79777f23",
   "metadata": {},
   "source": [
    "## 3.Write a program that accepts a comma separated sequence of words as input and prints the words in a comma-separated sequence after sorting them alphabetically ?\n",
    "\n",
    "Suppose the following input is supplied to the program: without,hello,bag,world\n",
    "\n",
    "Then, the output should be: bag,hello,without,world"
   ]
  },
  {
   "cell_type": "code",
   "execution_count": 4,
   "id": "0ad4193d",
   "metadata": {},
   "outputs": [
    {
     "name": "stdout",
     "output_type": "stream",
     "text": [
      "Enter the Input String: without,hello,bag,world\n",
      "Output: bag,hello,without,world\n"
     ]
    }
   ],
   "source": [
    "def sortString():\n",
    "    in_string = input(\"Enter the Input String: \")\n",
    "    out_string = ','.join(sorted(in_string.split(',')))\n",
    "    print(f'Output: {out_string}')\n",
    "    \n",
    "sortString()"
   ]
  },
  {
   "cell_type": "markdown",
   "id": "58e630cc",
   "metadata": {},
   "source": [
    "## 4.Write a program that accepts a sequence of whitespace separated words as input and prints the words after removing all duplicate words and sorting them alphanumerically.\n",
    "\n",
    "Suppose the following input is supplied to the program: hello world and practice makes perfect and hello world again\n",
    "\n",
    "Then, the output should be: again and hello makes perfect practice world"
   ]
  },
  {
   "cell_type": "code",
   "execution_count": 5,
   "id": "37372bac",
   "metadata": {},
   "outputs": [
    {
     "name": "stdout",
     "output_type": "stream",
     "text": [
      "Enter the Input String: hello world and practice makes perfect and hello world again\n",
      "Output: again and hello makes perfect practice world\n"
     ]
    }
   ],
   "source": [
    "def sortAlphaNumerically():\n",
    "    in_string = input(\"Enter the Input String: \")\n",
    "    out_string = ' '.join(sorted(sorted(list(set(in_string.split(\" \"))))))\n",
    "    print(f'Output: {out_string}')\n",
    "    \n",
    "sortAlphaNumerically()"
   ]
  },
  {
   "cell_type": "markdown",
   "id": "d3da9bcf",
   "metadata": {},
   "source": [
    "## 5.Write a program that accepts a sentence and calculate the number of letters and digits.\n",
    "\n",
    "Suppose the following input is supplied to the program: hello world! 123\n",
    "\n",
    "Then, the output should be:\n",
    "\n",
    "LETTERS 10\n",
    "\n",
    "DIGITS 3"
   ]
  },
  {
   "cell_type": "code",
   "execution_count": 6,
   "id": "a7503cd2",
   "metadata": {},
   "outputs": [
    {
     "name": "stdout",
     "output_type": "stream",
     "text": [
      "Enter the Input String: hello world! 123\n",
      "LETTERS 10 \n",
      "DIGITS 3\n"
     ]
    }
   ],
   "source": [
    "def countLetterAndDigits():\n",
    "    in_string = input(\"Enter the Input String: \")\n",
    "    lettersList = 'ABCDEFGHIJKLMNOPQRSTUVWXYZabcdefghijklmnopqrstuvwxyz'\n",
    "    digitsList = '0123456789'\n",
    "    letters = 0\n",
    "    digits = 0\n",
    "    for ele in in_string:\n",
    "        if ele in lettersList:\n",
    "            letters += 1\n",
    "        if ele in digitsList:\n",
    "            digits += 1\n",
    "    print(f'LETTERS {letters} \\nDIGITS {digits}')\n",
    "        \n",
    "countLetterAndDigits()\n"
   ]
  },
  {
   "cell_type": "markdown",
   "id": "cc41e2b8",
   "metadata": {},
   "source": [
    "## 6.A website requires the users to input username and password to register. Write a program to check the validity of password input by users.\n",
    "\n",
    "Following are the criteria for checking the password:\n",
    "\n",
    "At least 1 letter between [a-z]\n",
    "\n",
    "At least 1 number between [0-9]\n",
    "\n",
    "At least 1 letter between [A-Z]\n",
    "\n",
    "At least 1 character from [$#@]\n",
    "\n",
    "\n",
    "Minimum length of transaction password: 6\n",
    "\n",
    "Maximum length of transaction password: 12\n",
    "\n",
    "Your program should accept a sequence of comma separated passwords and will check them according to the above criteria. \n",
    "\n",
    "Passwords that match the criteria are to be printed, each separated by a comma.\n",
    "\n",
    "\n",
    "Example:\n",
    "\n",
    "If the following passwords are given as input to the program: ABd1234@1,a F1#,2w3E*,2We3345\n",
    "\n",
    "Then, the output of the program should be:ABd1234@1"
   ]
  },
  {
   "cell_type": "code",
   "execution_count": 7,
   "id": "8ac8213d",
   "metadata": {},
   "outputs": [
    {
     "name": "stdout",
     "output_type": "stream",
     "text": [
      "Enter the Input String: ABd1234@1,a F1#,2w3E*,2We3345\n",
      "ABd1234@1\n"
     ]
    }
   ],
   "source": [
    "def checkPassword():\n",
    "    in_string = input(\"Enter the Input String: \")\n",
    "    small_list = \"abcdefghijklmnopqrstuvwxyz\"\n",
    "    cap_list = \"ABCDEFGHIJKLMNOPQRSTUVWXYZ\"\n",
    "    num_list = \"0123456789\"\n",
    "    special_list = \"$#@\"\n",
    "    for ele in in_string.split(\",\"):\n",
    "        if len(ele) <= 12 and len(ele) >=6 :\n",
    "            if any(i.isupper() for i in ele):\n",
    "                if any(i.islower() for i in ele):\n",
    "                    if any(i for i in ele if i in special_list):\n",
    "                        print(ele)\n",
    "                               \n",
    "checkPassword() "
   ]
  },
  {
   "cell_type": "markdown",
   "id": "cd08023d",
   "metadata": {},
   "source": [
    "# Thank You"
   ]
  }
 ],
 "metadata": {
  "kernelspec": {
   "display_name": "Python 3 (ipykernel)",
   "language": "python",
   "name": "python3"
  },
  "language_info": {
   "codemirror_mode": {
    "name": "ipython",
    "version": 3
   },
   "file_extension": ".py",
   "mimetype": "text/x-python",
   "name": "python",
   "nbconvert_exporter": "python",
   "pygments_lexer": "ipython3",
   "version": "3.9.7"
  }
 },
 "nbformat": 4,
 "nbformat_minor": 5
}
