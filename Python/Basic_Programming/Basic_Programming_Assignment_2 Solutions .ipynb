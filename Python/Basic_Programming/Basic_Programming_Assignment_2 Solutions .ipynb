{
 "cells": [
  {
   "cell_type": "markdown",
   "id": "03f5c8a8",
   "metadata": {},
   "source": [
    "# Basic_Programming_Assignment_2 Solutions :-"
   ]
  },
  {
   "cell_type": "markdown",
   "id": "353a4bf6",
   "metadata": {},
   "source": [
    "SUBMITTED BY :\n",
    "AMBARISH SINGH "
   ]
  },
  {
   "cell_type": "markdown",
   "id": "6db539da",
   "metadata": {},
   "source": [
    "# Q.1) Write a Python program to convert kilometers to miles?"
   ]
  },
  {
   "cell_type": "markdown",
   "id": "d50340e6",
   "metadata": {},
   "source": [
    "# Ans:"
   ]
  },
  {
   "cell_type": "code",
   "execution_count": 1,
   "id": "e81eba42",
   "metadata": {},
   "outputs": [
    {
     "name": "stdout",
     "output_type": "stream",
     "text": [
      "Enter No.Of Kilometer = 4\n",
      "4.0 Km is equal to 2.485484 Miles\n"
     ]
    }
   ],
   "source": [
    "def KmtoMiles():\n",
    "    Kilometer = float(input(\"Enter No.Of Kilometer = \"))\n",
    "    print(\"{} Km is equal to {} Miles\".format(Kilometer,Kilometer*0.621371))\n",
    "    \n",
    "KmtoMiles()    "
   ]
  },
  {
   "cell_type": "markdown",
   "id": "4cc6cf25",
   "metadata": {},
   "source": [
    "# Q.2) Write a Python program to convert Celsius to Fahrenheit?"
   ]
  },
  {
   "cell_type": "markdown",
   "id": "26adf8ea",
   "metadata": {},
   "source": [
    "# Ans:"
   ]
  },
  {
   "cell_type": "code",
   "execution_count": 2,
   "id": "ced42611",
   "metadata": {},
   "outputs": [
    {
     "name": "stdout",
     "output_type": "stream",
     "text": [
      "Enter Temperature in Celsius = 44\n",
      "44° Celsius is equal to 111.2° Fahrenheit\n"
     ]
    }
   ],
   "source": [
    "def CeltoFahr():\n",
    "    Celsius = int(input(\"Enter Temperature in Celsius = \"))\n",
    "    Fahrenheit = (Celsius*(9/5))+32\n",
    "    print(\"{}° Celsius is equal to {}° Fahrenheit\".format(Celsius,Fahrenheit))\n",
    "    \n",
    "CeltoFahr()    "
   ]
  },
  {
   "cell_type": "markdown",
   "id": "f67b617e",
   "metadata": {},
   "source": [
    "# Q.3) Write a Python program to display calendar?"
   ]
  },
  {
   "cell_type": "markdown",
   "id": "035aa22c",
   "metadata": {},
   "source": [
    "# Ans:"
   ]
  },
  {
   "cell_type": "code",
   "execution_count": 5,
   "id": "615eb644",
   "metadata": {},
   "outputs": [
    {
     "name": "stdout",
     "output_type": "stream",
     "text": [
      "Enter Calender year: 2022\n",
      "Enter Calender month: 8\n",
      "    August 2022\n",
      "Mo Tu We Th Fr Sa Su\n",
      " 1  2  3  4  5  6  7\n",
      " 8  9 10 11 12 13 14\n",
      "15 16 17 18 19 20 21\n",
      "22 23 24 25 26 27 28\n",
      "29 30 31\n",
      "\n"
     ]
    }
   ],
   "source": [
    "def showCalendar_1():\n",
    "   \n",
    "    import calendar\n",
    "\n",
    "    year = int(input(\"Enter Calender year: \"))\n",
    "    month = int(input(\"Enter Calender month: \"))\n",
    "\n",
    "    print(calendar.month(year, month))\n",
    "    \n",
    "showCalendar_1()    "
   ]
  },
  {
   "cell_type": "code",
   "execution_count": 6,
   "id": "35de0d27",
   "metadata": {},
   "outputs": [
    {
     "name": "stdout",
     "output_type": "stream",
     "text": [
      "Enter calender year: 2022\n",
      "                                  2022\n",
      "\n",
      "      January                   February                   March\n",
      "Mo Tu We Th Fr Sa Su      Mo Tu We Th Fr Sa Su      Mo Tu We Th Fr Sa Su\n",
      "                1  2          1  2  3  4  5  6          1  2  3  4  5  6\n",
      " 3  4  5  6  7  8  9       7  8  9 10 11 12 13       7  8  9 10 11 12 13\n",
      "10 11 12 13 14 15 16      14 15 16 17 18 19 20      14 15 16 17 18 19 20\n",
      "17 18 19 20 21 22 23      21 22 23 24 25 26 27      21 22 23 24 25 26 27\n",
      "24 25 26 27 28 29 30      28                        28 29 30 31\n",
      "31\n",
      "\n",
      "       April                      May                       June\n",
      "Mo Tu We Th Fr Sa Su      Mo Tu We Th Fr Sa Su      Mo Tu We Th Fr Sa Su\n",
      "             1  2  3                         1             1  2  3  4  5\n",
      " 4  5  6  7  8  9 10       2  3  4  5  6  7  8       6  7  8  9 10 11 12\n",
      "11 12 13 14 15 16 17       9 10 11 12 13 14 15      13 14 15 16 17 18 19\n",
      "18 19 20 21 22 23 24      16 17 18 19 20 21 22      20 21 22 23 24 25 26\n",
      "25 26 27 28 29 30         23 24 25 26 27 28 29      27 28 29 30\n",
      "                          30 31\n",
      "\n",
      "        July                     August                  September\n",
      "Mo Tu We Th Fr Sa Su      Mo Tu We Th Fr Sa Su      Mo Tu We Th Fr Sa Su\n",
      "             1  2  3       1  2  3  4  5  6  7                1  2  3  4\n",
      " 4  5  6  7  8  9 10       8  9 10 11 12 13 14       5  6  7  8  9 10 11\n",
      "11 12 13 14 15 16 17      15 16 17 18 19 20 21      12 13 14 15 16 17 18\n",
      "18 19 20 21 22 23 24      22 23 24 25 26 27 28      19 20 21 22 23 24 25\n",
      "25 26 27 28 29 30 31      29 30 31                  26 27 28 29 30\n",
      "\n",
      "      October                   November                  December\n",
      "Mo Tu We Th Fr Sa Su      Mo Tu We Th Fr Sa Su      Mo Tu We Th Fr Sa Su\n",
      "                1  2          1  2  3  4  5  6                1  2  3  4\n",
      " 3  4  5  6  7  8  9       7  8  9 10 11 12 13       5  6  7  8  9 10 11\n",
      "10 11 12 13 14 15 16      14 15 16 17 18 19 20      12 13 14 15 16 17 18\n",
      "17 18 19 20 21 22 23      21 22 23 24 25 26 27      19 20 21 22 23 24 25\n",
      "24 25 26 27 28 29 30      28 29 30                  26 27 28 29 30 31\n",
      "31\n",
      "\n"
     ]
    }
   ],
   "source": [
    "\n",
    "def showCalender_2():\n",
    "\n",
    "    import calendar\n",
    "\n",
    "    year = int(input(\"Enter calender year: \"))\n",
    "    print(calendar.calendar(year))\n",
    "    \n",
    "showCalender_2()\n"
   ]
  },
  {
   "cell_type": "markdown",
   "id": "12eed2e8",
   "metadata": {},
   "source": [
    "# Q.4) Write a Python program to solve quadratic equation?"
   ]
  },
  {
   "cell_type": "markdown",
   "id": "abb4f0ee",
   "metadata": {},
   "source": [
    "# Ans:"
   ]
  },
  {
   "cell_type": "markdown",
   "id": "69f990b8",
   "metadata": {},
   "source": [
    "->  quadratic equation ax^2+bx+c=0 a, b, c = known numbers, where a ≠ 0 x = the unknown"
   ]
  },
  {
   "cell_type": "markdown",
   "id": "00fd4a56",
   "metadata": {},
   "source": [
    "->  descriminant = b*2 - (4 a * c)"
   ]
  },
  {
   "cell_type": "markdown",
   "id": "cbffe897",
   "metadata": {},
   "source": [
    "->  x1 = (-b-sqrt(d))/2 "
   ]
  },
  {
   "cell_type": "markdown",
   "id": "0c53a78a",
   "metadata": {},
   "source": [
    "->  x2 = (b-sqrt(d))/2"
   ]
  },
  {
   "cell_type": "code",
   "execution_count": 8,
   "id": "28e77d16",
   "metadata": {},
   "outputs": [
    {
     "name": "stdout",
     "output_type": "stream",
     "text": [
      " Enter value of a : 4\n",
      " Enter value of b : 5\n",
      " Enter value of c : 6\n",
      "The roots are = \n",
      "x1 = (-0.625-1.0532687216470449j)\n",
      "x2 = (-0.625+1.0532687216470449j)\n"
     ]
    }
   ],
   "source": [
    "def quadarticEquationRoots():\n",
    "    \n",
    "    # import complex math module\n",
    "    import cmath\n",
    "  \n",
    "\n",
    "    a = int(input(\" Enter value of a : \"))\n",
    "    b = int(input(\" Enter value of b : \"))\n",
    "    c = int(input(\" Enter value of c : \"))\n",
    "\n",
    "    # calculating  the discriminant\n",
    "    dis = (b**2) - (4 * a*c)\n",
    "    \n",
    "    \n",
    "    # find two results\n",
    "    x1 = (-b-cmath.sqrt(dis))/(2 * a)\n",
    "    x2 = (-b + cmath.sqrt(dis))/(2 * a)\n",
    "    \n",
    "    # printing the results\n",
    "    print('The roots are = ')\n",
    "    print(\"x1 =\", x1)\n",
    "    print(\"x2 =\",x2)\n",
    "    \n",
    "    \n",
    "quadarticEquationRoots()    \n",
    "   \n",
    "\n",
    "    "
   ]
  },
  {
   "cell_type": "markdown",
   "id": "98540379",
   "metadata": {},
   "source": [
    "# Q.5) Write a Python program to swap two variables without temp variable ?"
   ]
  },
  {
   "cell_type": "markdown",
   "id": "31942891",
   "metadata": {},
   "source": [
    "# Ans:"
   ]
  },
  {
   "cell_type": "code",
   "execution_count": 9,
   "id": "44140f2e",
   "metadata": {},
   "outputs": [
    {
     "name": "stdout",
     "output_type": "stream",
     "text": [
      "Num1 : 21\n",
      "Num2 : 43\n",
      "Before swaping x = 21  y = 43\n",
      "After swaping x = 43  y = 21\n"
     ]
    }
   ],
   "source": [
    "\n",
    "def swapNumbers():\n",
    "\n",
    "    x = int(input(\"Num1 : \"))\n",
    "    y = int(input(\"Num2 : \"))\n",
    "    \n",
    "    print(\"Before swaping x =\", x,\" y =\", y)\n",
    "    y,x = x,y\n",
    "\n",
    "    print(\"After swaping x =\", x,\" y =\", y)\n",
    "    \n",
    "swapNumbers()    "
   ]
  },
  {
   "cell_type": "markdown",
   "id": "437ba34e",
   "metadata": {},
   "source": [
    "# Thank You"
   ]
  }
 ],
 "metadata": {
  "kernelspec": {
   "display_name": "Python 3 (ipykernel)",
   "language": "python",
   "name": "python3"
  },
  "language_info": {
   "codemirror_mode": {
    "name": "ipython",
    "version": 3
   },
   "file_extension": ".py",
   "mimetype": "text/x-python",
   "name": "python",
   "nbconvert_exporter": "python",
   "pygments_lexer": "ipython3",
   "version": "3.9.7"
  }
 },
 "nbformat": 4,
 "nbformat_minor": 5
}
