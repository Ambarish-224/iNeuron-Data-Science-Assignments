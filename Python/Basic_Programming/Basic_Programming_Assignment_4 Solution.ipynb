{
 "cells": [
  {
   "cell_type": "markdown",
   "id": "c432059e",
   "metadata": {},
   "source": [
    "# Basic_Programming_Assignment_4 Solutions :-"
   ]
  },
  {
   "cell_type": "markdown",
   "id": "c2a124f7",
   "metadata": {},
   "source": [
    "SUBMITTED BY : AMBARISH SINGH"
   ]
  },
  {
   "cell_type": "markdown",
   "id": "7575d2c7",
   "metadata": {},
   "source": [
    "# Q.1) Write a Python Program to Find the Factorial of a Number?"
   ]
  },
  {
   "cell_type": "markdown",
   "id": "e6380278",
   "metadata": {},
   "source": [
    "# Ans :"
   ]
  },
  {
   "cell_type": "code",
   "execution_count": 5,
   "id": "7e91af68",
   "metadata": {},
   "outputs": [
    {
     "name": "stdout",
     "output_type": "stream",
     "text": [
      "Enter a number: 7\n",
      "The factorial of 7 is 5040\n"
     ]
    }
   ],
   "source": [
    "\n",
    "def factorial(num):\n",
    "    \n",
    "    if (num < 1):\n",
    "        return 1\n",
    "    else:\n",
    "        return (num * factorial(num-1))\n",
    "\n",
    "num = int(input(\"Enter a number: \"))\n",
    "result = factorial(num)\n",
    "print(f\"The factorial of {num} is {result}\")\n"
   ]
  },
  {
   "cell_type": "markdown",
   "id": "369362a8",
   "metadata": {},
   "source": [
    "# 2) Write a Python Program to Display the multiplication Table?"
   ]
  },
  {
   "cell_type": "markdown",
   "id": "e2efcfd4",
   "metadata": {},
   "source": [
    "# Ans:"
   ]
  },
  {
   "cell_type": "code",
   "execution_count": 8,
   "id": "e0b08029",
   "metadata": {},
   "outputs": [
    {
     "name": "stdout",
     "output_type": "stream",
     "text": [
      "Display multiplication table of? 199\n",
      "199 X 1 = 199\n",
      "199 X 2 = 398\n",
      "199 X 3 = 597\n",
      "199 X 4 = 796\n",
      "199 X 5 = 995\n",
      "199 X 6 = 1194\n",
      "199 X 7 = 1393\n",
      "199 X 8 = 1592\n",
      "199 X 9 = 1791\n",
      "199 X 10 = 1990\n"
     ]
    }
   ],
   "source": [
    "def GenerateTable(num):\n",
    "    for i in range(1, 11):\n",
    "        print(f'{num} X {i} = {num*i}')\n",
    "        \n",
    "num = int(input(\"Display multiplication table of? \"))\n",
    "GenerateTable(num)"
   ]
  },
  {
   "cell_type": "markdown",
   "id": "d1e25e01",
   "metadata": {},
   "source": [
    "# 3) Write a Python Program to Print the Fibonacci sequence?"
   ]
  },
  {
   "cell_type": "markdown",
   "id": "709ca1d0",
   "metadata": {},
   "source": [
    "# Ans :"
   ]
  },
  {
   "cell_type": "code",
   "execution_count": 14,
   "id": "38cbf2a4",
   "metadata": {},
   "outputs": [
    {
     "name": "stdout",
     "output_type": "stream",
     "text": [
      "How many terms? 0\n",
      "Please enter a positive integer\n"
     ]
    }
   ],
   "source": [
    "def FibonacciSeries():\n",
    "    \n",
    "    nterms = int(input(\"How many terms? \"))\n",
    "    n1, n2 = 0, 1\n",
    "    count = 0\n",
    "   \n",
    "    if nterms <= 0:\n",
    "        print(\"Please enter a positive integer\")\n",
    "\n",
    "    elif nterms == 1:\n",
    "        print(\"Fibonacci sequence upto\",nterms,\":\")\n",
    "        print(n1)\n",
    "\n",
    "    else:\n",
    "        print(\"Fibonacci sequence:\")\n",
    "        while count < nterms:\n",
    "            print(n1)\n",
    "            nth = n1 + n2\n",
    "            # now Update the series\n",
    "            n1 = n2\n",
    "            n2 = nth\n",
    "            count += 1\n",
    "            \n",
    "FibonacciSeries()          \n"
   ]
  },
  {
   "cell_type": "markdown",
   "id": "41f79be6",
   "metadata": {},
   "source": [
    "# 4. Write a Python Program to Check Armstrong Number?"
   ]
  },
  {
   "cell_type": "markdown",
   "id": "9cab9e04",
   "metadata": {},
   "source": [
    "# Ans:"
   ]
  },
  {
   "cell_type": "code",
   "execution_count": 16,
   "id": "df775918",
   "metadata": {},
   "outputs": [
    {
     "name": "stdout",
     "output_type": "stream",
     "text": [
      "Enter a number: 131\n",
      "131 is Not an Armstrong Number\n",
      "Enter a number: 153\n",
      "153 is an Armstrong Number\n"
     ]
    }
   ],
   "source": [
    "def checkArmstrongNumber():\n",
    "    in_num = input('Enter a number: ')\n",
    "    sum = 0\n",
    "    for char in range(len(in_num)):\n",
    "        sum = sum + pow(int(in_num[char]),3)\n",
    "    if sum == int(in_num):\n",
    "        print(f'{in_num} is an Armstrong Number')\n",
    "    else:\n",
    "        print(f'{in_num} is Not an Armstrong Number')\n",
    "\n",
    "for x in range(2):\n",
    "    checkArmstrongNumber()"
   ]
  },
  {
   "cell_type": "markdown",
   "id": "c838b7c6",
   "metadata": {},
   "source": [
    "# 5) Write a Python Program to Find Armstrong Number in an Interval?"
   ]
  },
  {
   "cell_type": "markdown",
   "id": "3e868b0f",
   "metadata": {},
   "source": [
    "# Ans:"
   ]
  },
  {
   "cell_type": "code",
   "execution_count": 26,
   "id": "b908df26",
   "metadata": {},
   "outputs": [
    {
     "name": "stdout",
     "output_type": "stream",
     "text": [
      "Enter the Start of the Interval: 111\n",
      "Enter the End of the Interval: 2000\n",
      "153\n",
      "370\n",
      "371\n",
      "407\n",
      "1634\n"
     ]
    }
   ],
   "source": [
    "\n",
    "def checkArmstrongNumber(lower,upper):\n",
    "    \n",
    "    lower = int(input('Enter the Start of the Interval: '))\n",
    "    upper = int(input('Enter the End of the Interval: '))\n",
    "\n",
    "    for num in range(lower, upper + 1):\n",
    "\n",
    "        # order of number\n",
    "        order = len(str(num))\n",
    "    \n",
    "        # initialize sum\n",
    "        sum = 0\n",
    "\n",
    "        temp = num\n",
    "        while temp > 0:\n",
    "            digit = temp % 10\n",
    "            sum += digit ** order\n",
    "            temp //= 10\n",
    "\n",
    "        if num == sum:\n",
    "            print(num)\n",
    "        \n",
    "checkArmstrongNumber(lower,upper)\n"
   ]
  },
  {
   "cell_type": "markdown",
   "id": "51b9a145",
   "metadata": {},
   "source": [
    "# 6) Write a Python Program to Find the Sum of Natural Numbers?"
   ]
  },
  {
   "cell_type": "markdown",
   "id": "5b9e147d",
   "metadata": {},
   "source": [
    "# Ans:"
   ]
  },
  {
   "cell_type": "code",
   "execution_count": 29,
   "id": "3e91eba4",
   "metadata": {},
   "outputs": [
    {
     "name": "stdout",
     "output_type": "stream",
     "text": [
      "Enter a number: 41\n",
      "Sum of 41 natural numbers is 861.0\n"
     ]
    }
   ],
   "source": [
    "\n",
    "def sumOfNaturalNumbers(num):\n",
    "    sum = num*((num+1)/2)\n",
    "    print(f'Sum of {num} natural numbers is {sum}')\n",
    "    \n",
    "num = int(input('Enter a number: '))\n",
    "sumOfNaturalNumbers(num)\n"
   ]
  },
  {
   "cell_type": "markdown",
   "id": "d8577a28",
   "metadata": {},
   "source": [
    "# Thank You"
   ]
  }
 ],
 "metadata": {
  "kernelspec": {
   "display_name": "Python 3 (ipykernel)",
   "language": "python",
   "name": "python3"
  },
  "language_info": {
   "codemirror_mode": {
    "name": "ipython",
    "version": 3
   },
   "file_extension": ".py",
   "mimetype": "text/x-python",
   "name": "python",
   "nbconvert_exporter": "python",
   "pygments_lexer": "ipython3",
   "version": "3.9.7"
  }
 },
 "nbformat": 4,
 "nbformat_minor": 5
}
