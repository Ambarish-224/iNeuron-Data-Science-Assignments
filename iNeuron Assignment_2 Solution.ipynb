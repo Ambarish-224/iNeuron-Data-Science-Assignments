{
 "cells": [
  {
   "cell_type": "markdown",
   "id": "d8170a47",
   "metadata": {},
   "source": [
    "# Assignment_2 Solutions"
   ]
  },
  {
   "cell_type": "markdown",
   "id": "c912c1ea",
   "metadata": {},
   "source": [
    "SUBMITTED BY: AMBARISH SINGH"
   ]
  },
  {
   "cell_type": "markdown",
   "id": "9da69d52",
   "metadata": {},
   "source": [
    "# Q.1) .What are the two values of the Boolean data type? How do you write them?"
   ]
  },
  {
   "cell_type": "markdown",
   "id": "82c90f7e",
   "metadata": {},
   "source": [
    "Ans 1)\n",
    "\n",
    "Two values of the boolen data types are True and False. \n",
    "We have to use capital T and F and with the rest of the word in lowercase. \n",
    "The type() of both False and True is bool. The type bool is built in, \n",
    "meaning it’s always available in Python and doesn’t need to be imported. \n",
    "However, the name itself isn’t a keyword in the language.\n"
   ]
  },
  {
   "cell_type": "code",
   "execution_count": 2,
   "id": "5b2a6597",
   "metadata": {},
   "outputs": [
    {
     "name": "stdout",
     "output_type": "stream",
     "text": [
      "True <class 'bool'>\n",
      "False <class 'bool'>\n"
     ]
    }
   ],
   "source": [
    "a=True\n",
    "b=False\n",
    "print(a,type(a))\n",
    "print(b,type(b))"
   ]
  },
  {
   "cell_type": "markdown",
   "id": "bc62727e",
   "metadata": {},
   "source": [
    "# Q.2) What are the three different types of Boolean operators?"
   ]
  },
  {
   "cell_type": "markdown",
   "id": "ea0c83fc",
   "metadata": {},
   "source": [
    "Ans.2)\n",
    "\n",
    "Boolean operators form the basis of mathematical sets and database logic. They connect our search words together to either narrow or broaden our set of results.The three differnt types of Boolean operators in python are: OR, AND, NOT.\n",
    "Example: a>40 and b>40"
   ]
  },
  {
   "cell_type": "code",
   "execution_count": 4,
   "id": "b759c4b4",
   "metadata": {},
   "outputs": [
    {
     "name": "stdout",
     "output_type": "stream",
     "text": [
      "True\n",
      "True\n",
      "False\n"
     ]
    }
   ],
   "source": [
    "a=1000\n",
    "b=2000\n",
    "print(a>500 and b>1000) # Example of boolean and\n",
    "print(a>200 or b>1000) # Example of boolean or\n",
    "print(not(a>11)) # Example of boolean not"
   ]
  },
  {
   "cell_type": "markdown",
   "id": "63dbaa16",
   "metadata": {},
   "source": [
    "# Q.3) Make a list of each Boolean operator's truth tables (i.e. every possible combination of Boolean values for the operator and what it evaluate )."
   ]
  },
  {
   "cell_type": "code",
   "execution_count": null,
   "id": "460771b3",
   "metadata": {},
   "outputs": [],
   "source": [
    "'''\n",
    "Ans.3)\n",
    "\n",
    "The Truth tables for the boolean tables are as follows:\n",
    "\n",
    "\n",
    "Truth Table for and operator :-\n",
    "\n",
    "True and True --> True\n",
    "True and False --> False\n",
    "False and True --> False\n",
    "False and False --> False\n",
    "\n",
    "\n",
    "Truth Table for or operator :-\n",
    "\n",
    "\n",
    "True or True --> True\n",
    "True or False --> True\n",
    "False or True --> True\n",
    "False or False --> False\n",
    "\n",
    "\n",
    "Truth Table for not operator :-\n",
    "\n",
    "True not --> False False not --> True\n",
    "\n",
    "\n",
    "'''\n"
   ]
  },
  {
   "cell_type": "markdown",
   "id": "44233841",
   "metadata": {},
   "source": [
    "# 4. What are the values of the following expressions?\n",
    "\n",
    "(5 > 4) and (3 == 5)\n",
    "\n",
    "not (5 > 4)\n",
    "\n",
    "(5 > 4) or (3 == 5)\n",
    "\n",
    "not ((5 > 4) or (3 == 5))\n",
    "\n",
    "(True and True) and (True == False)\n",
    "\n",
    "(not False) or (not True)"
   ]
  },
  {
   "cell_type": "code",
   "execution_count": 5,
   "id": "5952314f",
   "metadata": {},
   "outputs": [
    {
     "name": "stdout",
     "output_type": "stream",
     "text": [
      "False\n",
      "False\n",
      "True\n",
      "False\n",
      "False\n",
      "True\n"
     ]
    }
   ],
   "source": [
    "# Ans.4) \n",
    "\n",
    "print((5>4)and(3==5)) # False\n",
    "print(not(5>4)) # False\n",
    "print((5>4)or(3==5)) # True\n",
    "print(not((5>4)or(3==5))) # False\n",
    "print((True and True)and(True==False)) # False\n",
    "print((not False)or(not True)) # True"
   ]
  },
  {
   "cell_type": "markdown",
   "id": "e5eca85c",
   "metadata": {},
   "source": [
    "# Q.5) What are the six comparison operators?"
   ]
  },
  {
   "cell_type": "markdown",
   "id": "5ea2862a",
   "metadata": {},
   "source": [
    "Ans.5)\n",
    "\n",
    "The Six Comparision Operators available in python are:-\n",
    "    \n",
    "== , != , < , > , <= , =>"
   ]
  },
  {
   "cell_type": "markdown",
   "id": "99e29572",
   "metadata": {},
   "source": [
    "# Q.6) How do you tell the difference between the equal to and assignment operators? Describe a condition and when you would use one."
   ]
  },
  {
   "cell_type": "markdown",
   "id": "66db9a1e",
   "metadata": {},
   "source": [
    "Ans.6)\n",
    "\n",
    "== is the equal to operator that compares two values and evaluates to a Boolean, while = is that assignment operator that stores a value in a variable."
   ]
  },
  {
   "cell_type": "code",
   "execution_count": 7,
   "id": "f4387b37",
   "metadata": {},
   "outputs": [
    {
     "name": "stdout",
     "output_type": "stream",
     "text": [
      "False\n"
     ]
    }
   ],
   "source": [
    "b=10 # Assigning operator that stores 10 value in a variable b\n",
    "if b==10: #comparing values of b varible value and 10\n",
    "    print(b==3)  "
   ]
  },
  {
   "cell_type": "markdown",
   "id": "639e3281",
   "metadata": {},
   "source": [
    "# Q.7) Identify the three blocks in this code:-\n",
    "\n",
    "spam = 0\n",
    "\n",
    "if spam == 10:\n",
    "\n",
    "print('eggs')\n",
    "\n",
    "if spam > 5:\n",
    "\n",
    "print('bacon')\n",
    "\n",
    "else:\n",
    "\n",
    "print('ham')\n",
    "\n",
    "print('spam')\n",
    "\n",
    "print('spam')\n"
   ]
  },
  {
   "cell_type": "markdown",
   "id": "50e8fce6",
   "metadata": {},
   "source": [
    "\n",
    "Ans.7)\n",
    "\n",
    "In Python, code block refers to a collection of code that is in the same block or indent. This is most commonly found in classes, functions, and loops. Answer for the question is:-\n",
    "\n",
    "ham\n",
    "\n",
    "spam\n",
    "\n",
    "spam"
   ]
  },
  {
   "cell_type": "code",
   "execution_count": 8,
   "id": "fbbefd28",
   "metadata": {},
   "outputs": [
    {
     "name": "stdout",
     "output_type": "stream",
     "text": [
      "ham\n",
      "spam\n",
      "spam\n"
     ]
    }
   ],
   "source": [
    "spam = 0  \n",
    "if spam == 10:  \n",
    "    print('eggs')  # block #1\n",
    "if spam > 5:  \n",
    "    print('bacon')  # block #2\n",
    "else:  \n",
    "    print('ham')  # block #3\n",
    "print('spam')  \n",
    "print('spam')"
   ]
  },
  {
   "cell_type": "markdown",
   "id": "27188add",
   "metadata": {},
   "source": [
    "# Q.8) Write code that prints Hello if 1 is stored in spam, prints Howdy if 2 is stored in spam, and prints Greetings! if anything else is stored in spam."
   ]
  },
  {
   "cell_type": "code",
   "execution_count": 10,
   "id": "5c3b1504",
   "metadata": {},
   "outputs": [
    {
     "name": "stdout",
     "output_type": "stream",
     "text": [
      "Greetings\n",
      "Hello\n",
      "Howdy\n"
     ]
    }
   ],
   "source": [
    "# Ans.8)\n",
    "\n",
    "def spamCode(spam):\n",
    "    if spam==1:\n",
    "        print('Hello')\n",
    "    elif spam==2:\n",
    "        print('Howdy')\n",
    "    else:\n",
    "        print('Greetings')\n",
    "        \n",
    "spamCode(3) \n",
    "spamCode(1)\n",
    "spamCode(2)"
   ]
  },
  {
   "cell_type": "markdown",
   "id": "af581d43",
   "metadata": {},
   "source": [
    "# Q.9) If your programme is stuck in an endless loop, what keys you’ll press?"
   ]
  },
  {
   "cell_type": "markdown",
   "id": "50366d94",
   "metadata": {},
   "source": [
    "Ans.9) \n",
    "\n",
    "To stop a program stuck in an infinite loop, we press Ctrl-c\n",
    "\n"
   ]
  },
  {
   "cell_type": "markdown",
   "id": "50597f85",
   "metadata": {},
   "source": [
    "# Q.10) How can you tell the difference between break and continue?"
   ]
  },
  {
   "cell_type": "markdown",
   "id": "362b7c15",
   "metadata": {},
   "source": [
    "Ans.10)\n",
    "\n",
    "The break statement will move the execution outside the loop if break condtion is satisfied whereas the continue statement will move the execution to the start of the loop. Example of break and continue is mentioned below:-"
   ]
  },
  {
   "cell_type": "code",
   "execution_count": 11,
   "id": "e6011a49",
   "metadata": {},
   "outputs": [
    {
     "name": "stdout",
     "output_type": "stream",
     "text": [
      "s\n",
      "t\n",
      "r\n",
      "The end\n"
     ]
    }
   ],
   "source": [
    "# Use of break statement inside the loop\n",
    "\n",
    "for val in \"string\":\n",
    "    if val == \"i\":\n",
    "        break\n",
    "    print(val)\n",
    "\n",
    "print(\"The end\")"
   ]
  },
  {
   "cell_type": "code",
   "execution_count": 12,
   "id": "506736f8",
   "metadata": {},
   "outputs": [
    {
     "name": "stdout",
     "output_type": "stream",
     "text": [
      "s\n",
      "t\n",
      "r\n",
      "n\n",
      "g\n",
      "The end\n"
     ]
    }
   ],
   "source": [
    "# Program to show the use of continue statement inside loops\n",
    "\n",
    "for val in \"string\":\n",
    "    if val == \"i\":\n",
    "        continue\n",
    "    print(val)\n",
    "\n",
    "print(\"The end\")"
   ]
  },
  {
   "cell_type": "markdown",
   "id": "68c2f4d9",
   "metadata": {},
   "source": [
    "# Q.11) In a for loop, what is the difference between range(10), range(0, 10), and range(0, 10, 1)?"
   ]
  },
  {
   "cell_type": "markdown",
   "id": "b09b4b15",
   "metadata": {},
   "source": [
    "Ans.11)\n",
    "\n",
    "The Differences are as follows:\n",
    "\n",
    "1. The range(10) call range from 0 to 9 (but not include 10)\n",
    "2. The range (0,10) explicitly tells the loop to start at 0\n",
    "3. The range(0,10,1) explicitly tells the loop to increase the variable by 1 on each iteration"
   ]
  },
  {
   "cell_type": "code",
   "execution_count": 14,
   "id": "141dd26a",
   "metadata": {},
   "outputs": [
    {
     "name": "stdout",
     "output_type": "stream",
     "text": [
      "0 1 2 3 4 5 6 7 8 9 \n"
     ]
    }
   ],
   "source": [
    "# printing a number\n",
    "for i in range(10):\n",
    "    print(i, end=\" \")\n",
    "print()"
   ]
  },
  {
   "cell_type": "code",
   "execution_count": 15,
   "id": "c8824eb2",
   "metadata": {},
   "outputs": [
    {
     "name": "stdout",
     "output_type": "stream",
     "text": [
      "Sum of numbers : 45\n"
     ]
    }
   ],
   "source": [
    "# performing sum of numbers\n",
    "sum = 0\n",
    "for i in range(0, 10):\n",
    "    sum = sum + i\n",
    "print(\"Sum of numbers :\", sum)"
   ]
  },
  {
   "cell_type": "code",
   "execution_count": 16,
   "id": "b5e68e82",
   "metadata": {},
   "outputs": [
    {
     "name": "stdout",
     "output_type": "stream",
     "text": [
      "Sum of numbers : 45\n"
     ]
    }
   ],
   "source": [
    "# performing sum of numbers\n",
    "sum = 0\n",
    "for i in range(0, 10, 1):\n",
    "    sum = sum + i\n",
    "print(\"Sum of numbers :\", sum)"
   ]
  },
  {
   "cell_type": "markdown",
   "id": "817157e4",
   "metadata": {},
   "source": [
    "# Q.12) Write a short program that prints the numbers 1 to 10 using a for loop. Then write an equivalent program that prints the numbers 1 to 10 using a while loop."
   ]
  },
  {
   "cell_type": "code",
   "execution_count": 17,
   "id": "083035d5",
   "metadata": {},
   "outputs": [
    {
     "name": "stdout",
     "output_type": "stream",
     "text": [
      "---------- Using For Loop ----------\n",
      "1 2 3 4 5 6 7 8 9 10 \n",
      "\n",
      "---------- Using While Loop ----------\n",
      "1 2 3 4 5 6 7 8 9 10 "
     ]
    }
   ],
   "source": [
    "# Ans.12) \n",
    "\n",
    "print('-'*10,'Using For Loop','-'*10)\n",
    "for i in range(1,11):\n",
    "    print(i, end=\" \")\n",
    "print('\\n')\n",
    "print('-'*10,'Using While Loop','-'*10) \n",
    "i=1\n",
    "while i<=10:\n",
    "    print(i, end=\" \")\n",
    "    i+=1"
   ]
  },
  {
   "cell_type": "markdown",
   "id": "aedd810e",
   "metadata": {},
   "source": [
    "# Q.13) If you had a function named bacon() inside a module named spam, how would you call it after importing spam?"
   ]
  },
  {
   "cell_type": "markdown",
   "id": "589aaa26",
   "metadata": {},
   "source": [
    "Ans.13) \n",
    "\n",
    "This function can be called with spam.bacon()"
   ]
  },
  {
   "cell_type": "markdown",
   "id": "648174f9",
   "metadata": {},
   "source": [
    "# Thanks & Regards\n",
    "\n",
    "# AMBARISH SINGH"
   ]
  },
  {
   "cell_type": "code",
   "execution_count": null,
   "id": "58c92452",
   "metadata": {},
   "outputs": [],
   "source": []
  }
 ],
 "metadata": {
  "kernelspec": {
   "display_name": "Python 3 (ipykernel)",
   "language": "python",
   "name": "python3"
  },
  "language_info": {
   "codemirror_mode": {
    "name": "ipython",
    "version": 3
   },
   "file_extension": ".py",
   "mimetype": "text/x-python",
   "name": "python",
   "nbconvert_exporter": "python",
   "pygments_lexer": "ipython3",
   "version": "3.9.7"
  }
 },
 "nbformat": 4,
 "nbformat_minor": 5
}
